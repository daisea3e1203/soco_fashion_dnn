{
  "nbformat": 4,
  "nbformat_minor": 0,
  "metadata": {
    "colab": {
      "name": "03_dev_gradcam_on_representation_learner.ipynb",
      "provenance": [],
      "collapsed_sections": [],
      "mount_file_id": "1Qo9MsRKupcYMnzQwVeg6xu1dpNAfhIEt",
      "authorship_tag": "ABX9TyOlyYPv6T3q64yI8Y9Hc08R",
      "include_colab_link": true
    },
    "kernelspec": {
      "name": "python3",
      "display_name": "Python 3"
    },
    "language_info": {
      "name": "python"
    },
    "accelerator": "GPU",
    "gpuClass": "standard"
  },
  "cells": [
    {
      "cell_type": "markdown",
      "metadata": {
        "id": "view-in-github",
        "colab_type": "text"
      },
      "source": [
        "<a href=\"https://colab.research.google.com/github/daisea3e1203/soco_fashion_dnn/blob/main/03_dev_gradcam_on_representation_learner.ipynb\" target=\"_parent\"><img src=\"https://colab.research.google.com/assets/colab-badge.svg\" alt=\"Open In Colab\"/></a>"
      ]
    },
    {
      "cell_type": "code",
      "execution_count": 1,
      "metadata": {
        "colab": {
          "base_uri": "https://localhost:8080/"
        },
        "id": "hHjJa9KFUAVa",
        "outputId": "017fd5d8-377f-4bc5-e3ad-177614868896"
      },
      "outputs": [
        {
          "output_type": "stream",
          "name": "stdout",
          "text": [
            "Looking in indexes: https://pypi.org/simple, https://us-python.pkg.dev/colab-wheels/public/simple/\n",
            "Collecting tensorflow-addons\n",
            "  Downloading tensorflow_addons-0.17.1-cp37-cp37m-manylinux_2_17_x86_64.manylinux2014_x86_64.whl (1.1 MB)\n",
            "\u001b[K     |████████████████████████████████| 1.1 MB 5.2 MB/s \n",
            "\u001b[?25hRequirement already satisfied: typeguard>=2.7 in /usr/local/lib/python3.7/dist-packages (from tensorflow-addons) (2.7.1)\n",
            "Requirement already satisfied: packaging in /usr/local/lib/python3.7/dist-packages (from tensorflow-addons) (21.3)\n",
            "Requirement already satisfied: pyparsing!=3.0.5,>=2.0.2 in /usr/local/lib/python3.7/dist-packages (from packaging->tensorflow-addons) (3.0.9)\n",
            "Installing collected packages: tensorflow-addons\n",
            "Successfully installed tensorflow-addons-0.17.1\n"
          ]
        }
      ],
      "source": [
        "!pip install tensorflow-addons"
      ]
    },
    {
      "cell_type": "markdown",
      "source": [
        "# Import"
      ],
      "metadata": {
        "id": "7U-wyErJVUbz"
      }
    },
    {
      "cell_type": "code",
      "source": [
        "from collections import defaultdict\n",
        "import random\n",
        "import numpy as np\n",
        "import tensorflow as tf\n",
        "import tensorflow_addons as tfa\n",
        "from tensorflow import keras\n",
        "from tensorflow.keras import layers\n",
        "import matplotlib.pyplot as plt\n",
        "from tqdm import tqdm"
      ],
      "metadata": {
        "id": "7uNJi4nWUyNE"
      },
      "execution_count": 2,
      "outputs": []
    },
    {
      "cell_type": "markdown",
      "source": [
        "# Config\n"
      ],
      "metadata": {
        "id": "FS9fMltbVgcb"
      }
    },
    {
      "cell_type": "code",
      "source": [
        "target_size = 32  # Resize the input images.\n",
        "representation_dim = 512  # The dimensions of the features vector.\n",
        "projection_units = 128  # The projection head of the representation learner.\n",
        "num_clusters = 20  # Number of clusters.\n",
        "k_neighbours = 5  # Number of neighbours to consider during cluster learning.\n",
        "tune_encoder_during_clustering = False  # Freeze the encoder in the cluster learning."
      ],
      "metadata": {
        "id": "3OCAjsqkVZGL"
      },
      "execution_count": 4,
      "outputs": []
    },
    {
      "cell_type": "markdown",
      "source": [
        "# Prepare Data"
      ],
      "metadata": {
        "id": "DlZcdaPiVToM"
      }
    },
    {
      "cell_type": "code",
      "source": [
        "num_classes = 10\n",
        "input_shape = (32, 32, 3)\n",
        "\n",
        "(x_train, y_train), (x_test, y_test) = keras.datasets.cifar10.load_data()\n",
        "x_data = np.concatenate([x_train, x_test])\n",
        "y_data = np.concatenate([y_train, y_test])\n",
        "\n",
        "print(\"x_data shape:\", x_data.shape, \"- y_data shape:\", y_data.shape)\n",
        "\n",
        "classes = [\n",
        "    \"airplane\",\n",
        "    \"automobile\",\n",
        "    \"bird\",\n",
        "    \"cat\",\n",
        "    \"deer\",\n",
        "    \"dog\",\n",
        "    \"frog\",\n",
        "    \"horse\",\n",
        "    \"ship\",\n",
        "    \"truck\",\n",
        "]"
      ],
      "metadata": {
        "colab": {
          "base_uri": "https://localhost:8080/"
        },
        "id": "eHQeBnjNVXg0",
        "outputId": "08061e62-9544-4d19-acf0-443d8edd9ec7"
      },
      "execution_count": null,
      "outputs": [
        {
          "output_type": "stream",
          "name": "stdout",
          "text": [
            "Downloading data from https://www.cs.toronto.edu/~kriz/cifar-10-python.tar.gz\n",
            "170500096/170498071 [==============================] - 3s 0us/step\n",
            "170508288/170498071 [==============================] - 3s 0us/step\n",
            "x_data shape: (60000, 32, 32, 3) - y_data shape: (60000, 1)\n"
          ]
        }
      ]
    },
    {
      "cell_type": "code",
      "source": [
        "data_preprocessing = keras.Sequential(\n",
        "    [\n",
        "        layers.Resizing(target_size, target_size),\n",
        "        layers.Normalization(),\n",
        "    ]\n",
        ")\n",
        "# Compute the mean and the variance from the data for normalization.\n",
        "data_preprocessing.layers[-1].adapt(x_data)"
      ],
      "metadata": {
        "id": "C4P9piW_VmKD"
      },
      "execution_count": 5,
      "outputs": []
    },
    {
      "cell_type": "code",
      "source": [
        "data_augmentation = keras.Sequential(\n",
        "    [\n",
        "        layers.RandomTranslation(\n",
        "            height_factor=(-0.2, 0.2), width_factor=(-0.2, 0.2), fill_mode=\"nearest\"\n",
        "        ),\n",
        "        layers.RandomFlip(mode=\"horizontal\"),\n",
        "        layers.RandomRotation(\n",
        "            factor=0.15, fill_mode=\"nearest\"\n",
        "        ),\n",
        "        layers.RandomZoom(\n",
        "            height_factor=(-0.3, 0.1), width_factor=(-0.3, 0.1), fill_mode=\"nearest\"\n",
        "        )\n",
        "    ]\n",
        ")"
      ],
      "metadata": {
        "id": "WP___6aDVovS"
      },
      "execution_count": 6,
      "outputs": []
    },
    {
      "cell_type": "code",
      "source": [
        "# Sanity check: display random image\n",
        "image_idx = np.random.choice(range(x_data.shape[0]))\n",
        "image = x_data[image_idx]\n",
        "image_class = classes[y_data[image_idx][0]]\n",
        "plt.figure(figsize=(3, 3))\n",
        "plt.imshow(x_data[image_idx].astype(\"uint8\"))\n",
        "plt.title(image_class)\n",
        "_ = plt.axis(\"off\")"
      ],
      "metadata": {
        "colab": {
          "base_uri": "https://localhost:8080/",
          "height": 210
        },
        "id": "vWJ4X3TgVufc",
        "outputId": "1102ffda-bd52-44dc-f8a6-8aef1199de56"
      },
      "execution_count": 7,
      "outputs": [
        {
          "output_type": "display_data",
          "data": {
            "text/plain": [
              "<Figure size 216x216 with 1 Axes>"
            ],
            "image/png": "[encoded data removed]"
          },
          "metadata": {
            "needs_background": "light"
          }
        }
      ]
    },
    {
      "cell_type": "code",
      "source": [
        "# Sanity check: display augmented images\n",
        "plt.figure(figsize=(10, 10))\n",
        "for i in range(9):\n",
        "    augmented_images = data_augmentation(np.array([image]))\n",
        "    ax = plt.subplot(3, 3, i + 1)\n",
        "    plt.imshow(augmented_images[0].numpy().astype(\"uint8\"))\n",
        "    plt.axis(\"off\")"
      ],
      "metadata": {
        "colab": {
          "base_uri": "https://localhost:8080/",
          "height": 575
        },
        "id": "raV28l4hVyaD",
        "outputId": "09f618e9-45e0-4c34-cb5c-ea85eaa05990"
      },
      "execution_count": 8,
      "outputs": [
        {
          "output_type": "display_data",
          "data": {
            "text/plain": [
              "<Figure size 720x720 with 9 Axes>"
            ],
            "image/png": "[encoded data removed]"
          },
          "metadata": {
            "needs_background": "light"
          }
        }
      ]
    },
    {
      "cell_type": "markdown",
      "source": [
        "# Implement Model"
      ],
      "metadata": {
        "id": "0BR1P1iIV2H7"
      }
    },
    {
      "cell_type": "markdown",
      "source": [
        "## Vision Encoder\n"
      ],
      "metadata": {
        "id": "rMvAslR7V9nL"
      }
    },
    {
      "cell_type": "code",
      "source": [
        "def create_encoder(representation_dim):\n",
        "    # inputs = keras.Input(shape=(32,32,3))\n",
        "    # x = keras.applications.ResNet50V2(input_tensor=inputs, include_top=False, weights=None, pooling=\"avg\")\n",
        "    # x = layers.Dense(representation_dim)(x.output)\n",
        "    # encoder = keras.Model(inputs, x)\n",
        "    \n",
        "    return encoder\n",
        "\n",
        "    encoder = keras.Sequential(\n",
        "        [\n",
        "            keras.applications.ResNet50V2(\n",
        "                include_top=False, weights=None, pooling=\"avg\"\n",
        "            ),\n",
        "            layers.Dense(representation_dim),\n",
        "        ]\n",
        "    )\n",
        "    return encoder"
      ],
      "metadata": {
        "id": "LlgreDxvV5ej"
      },
      "execution_count": 10,
      "outputs": []
    },
    {
      "cell_type": "markdown",
      "source": [
        "## Unsupervised Contrastive Loss"
      ],
      "metadata": {
        "id": "-XRoA0-AV_ez"
      }
    },
    {
      "cell_type": "code",
      "source": [
        "class RepresentationLearner(keras.Model):\n",
        "    def __init__(\n",
        "        self,\n",
        "        encoder,\n",
        "        projection_units,\n",
        "        num_augmentations,\n",
        "        temperature=1.0,\n",
        "        dropout_rate=0.1,\n",
        "        l2_normalize=False,\n",
        "        **kwargs\n",
        "    ):\n",
        "        super(RepresentationLearner, self).__init__(**kwargs)\n",
        "        self.encoder = encoder\n",
        "        # Create projection head.\n",
        "        self.projector = keras.Sequential(\n",
        "            [\n",
        "                layers.Dropout(dropout_rate),\n",
        "                layers.Dense(units=projection_units, use_bias=False),\n",
        "                layers.BatchNormalization(),\n",
        "                layers.ReLU(),\n",
        "            ]\n",
        "        )\n",
        "        self.num_augmentations = num_augmentations\n",
        "        self.temperature = temperature\n",
        "        self.l2_normalize = l2_normalize\n",
        "        self.loss_tracker = keras.metrics.Mean(name=\"loss\")\n",
        "\n",
        "    @property\n",
        "    def metrics(self):\n",
        "        return [self.loss_tracker]\n",
        "\n",
        "    def compute_contrastive_loss(self, feature_vectors, batch_size):\n",
        "        num_augmentations = tf.shape(feature_vectors)[0] // batch_size\n",
        "        if self.l2_normalize:\n",
        "            feature_vectors = tf.math.l2_normalize(feature_vectors, -1)\n",
        "        # The logits shape is [num_augmentations * batch_size, num_augmentations * batch_size].\n",
        "        logits = (\n",
        "            tf.linalg.matmul(feature_vectors, feature_vectors, transpose_b=True)\n",
        "            / self.temperature\n",
        "        )\n",
        "        # Apply log-max trick for numerical stability.\n",
        "        logits_max = tf.math.reduce_max(logits, axis=1)\n",
        "        logits = logits - logits_max\n",
        "        # The shape of targets is [num_augmentations * batch_size, num_augmentations * batch_size].\n",
        "        # targets is a matrix consits of num_augmentations submatrices of shape [batch_size * batch_size].\n",
        "        # Each [batch_size * batch_size] submatrix is an identity matrix (diagonal entries are ones).\n",
        "        targets = tf.tile(tf.eye(batch_size), [num_augmentations, num_augmentations])\n",
        "        # Compute cross entropy loss\n",
        "        return keras.losses.categorical_crossentropy(\n",
        "            y_true=targets, y_pred=logits, from_logits=True\n",
        "        )\n",
        "\n",
        "    def call(self, inputs):\n",
        "        # Preprocess the input images.\n",
        "        preprocessed = data_preprocessing(inputs)\n",
        "        # Create augmented versions of the images.\n",
        "        augmented = []\n",
        "        for _ in range(self.num_augmentations):\n",
        "            augmented.append(data_augmentation(preprocessed))\n",
        "        augmented = layers.Concatenate(axis=0)(augmented)\n",
        "        # Generate embedding representations of the images.\n",
        "        features = self.encoder(augmented)\n",
        "        # Apply projection head.\n",
        "        return self.projector(features)\n",
        "\n",
        "    def train_step(self, inputs):\n",
        "        batch_size = tf.shape(inputs)[0]\n",
        "        # Run the forward pass and compute the contrastive loss\n",
        "        with tf.GradientTape() as tape:\n",
        "            feature_vectors = self(inputs, training=True)\n",
        "            loss = self.compute_contrastive_loss(feature_vectors, batch_size)\n",
        "        # Compute gradients\n",
        "        trainable_vars = self.trainable_variables\n",
        "        gradients = tape.gradient(loss, trainable_vars)\n",
        "        # Update weights\n",
        "        self.optimizer.apply_gradients(zip(gradients, trainable_vars))\n",
        "        # Update loss tracker metric\n",
        "        self.loss_tracker.update_state(loss)\n",
        "        # Return a dict mapping metric names to current value\n",
        "        return {m.name: m.result() for m in self.metrics}\n",
        "\n",
        "    def test_step(self, inputs):\n",
        "        batch_size = tf.shape(inputs)[0]\n",
        "        feature_vectors = self(inputs, training=False)\n",
        "        loss = self.compute_contrastive_loss(feature_vectors, batch_size)\n",
        "        self.loss_tracker.update_state(loss)\n",
        "        return {\"loss\": self.loss_tracker.result()}"
      ],
      "metadata": {
        "id": "JHC6sB_rWCMM"
      },
      "execution_count": 9,
      "outputs": []
    },
    {
      "cell_type": "markdown",
      "source": [
        "# Train model"
      ],
      "metadata": {
        "id": "_s-B8AEnWE1o"
      }
    },
    {
      "cell_type": "code",
      "source": [
        "# Create vision encoder.\n",
        "encoder = create_encoder(representation_dim)\n",
        "# Create representation learner.\n",
        "representation_learner = RepresentationLearner(\n",
        "    encoder, projection_units, num_augmentations=2, temperature=0.1\n",
        ")\n",
        "# Create a a Cosine decay learning rate scheduler.\n",
        "lr_scheduler = keras.optimizers.schedules.CosineDecay(\n",
        "    initial_learning_rate=0.001, decay_steps=500, alpha=0.1\n",
        ")\n",
        "# Compile the model.\n",
        "representation_learner.compile(\n",
        "    optimizer=tfa.optimizers.AdamW(learning_rate=lr_scheduler, weight_decay=0.0001),\n",
        ")\n",
        "# Fit the model.\n",
        "history = representation_learner.fit(\n",
        "    x=x_data,\n",
        "    batch_size=512,\n",
        "    epochs=50,  # for better results, increase the number of epochs to 500.\n",
        ")"
      ],
      "metadata": {
        "colab": {
          "base_uri": "https://localhost:8080/"
        },
        "id": "78CihIMgWlsb",
        "outputId": "13fa41af-3f71-41fc-ebf1-27eaf8147f8f"
      },
      "execution_count": 11,
      "outputs": [
        {
          "metadata": {
            "tags": null
          },
          "name": "stdout",
          "output_type": "stream",
          "text": [
            "Epoch 1/50\n",
            "118/118 [==============================] - 76s 371ms/step - loss: 53.9021\n",
            "Epoch 2/50\n",
            "118/118 [==============================] - 41s 351ms/step - loss: 11.9619\n",
            "Epoch 3/50\n",
            "118/118 [==============================] - 41s 349ms/step - loss: 11.5124\n",
            "Epoch 4/50\n",
            "118/118 [==============================] - 41s 350ms/step - loss: 11.2425\n",
            "Epoch 5/50\n",
            "118/118 [==============================] - 41s 350ms/step - loss: 11.1091\n",
            "Epoch 6/50\n",
            "118/118 [==============================] - 41s 349ms/step - loss: 11.0168\n",
            "Epoch 7/50\n",
            "118/118 [==============================] - 41s 352ms/step - loss: 10.8718\n",
            "Epoch 8/50\n",
            "118/118 [==============================] - 41s 351ms/step - loss: 10.7582\n",
            "Epoch 9/50\n",
            "118/118 [==============================] - 41s 350ms/step - loss: 10.6322\n",
            "Epoch 10/50\n",
            "118/118 [==============================] - 41s 350ms/step - loss: 10.4945\n",
            "Epoch 11/50\n",
            "118/118 [==============================] - 41s 350ms/step - loss: 10.3356\n",
            "Epoch 12/50\n",
            "118/118 [==============================] - 41s 350ms/step - loss: 10.2700\n",
            "Epoch 13/50\n",
            "118/118 [==============================] - 41s 350ms/step - loss: 10.1966\n",
            "Epoch 14/50\n",
            "118/118 [==============================] - 41s 351ms/step - loss: 9.9114\n",
            "Epoch 15/50\n",
            "118/118 [==============================] - 41s 351ms/step - loss: 9.7463\n",
            "Epoch 16/50\n",
            "118/118 [==============================] - 41s 351ms/step - loss: 9.5531\n",
            "Epoch 17/50\n",
            "118/118 [==============================] - 41s 350ms/step - loss: 9.3254\n",
            "Epoch 18/50\n",
            "118/118 [==============================] - 41s 350ms/step - loss: 9.1332\n",
            "Epoch 19/50\n",
            "118/118 [==============================] - 41s 350ms/step - loss: 8.9525\n",
            "Epoch 20/50\n",
            "118/118 [==============================] - 41s 349ms/step - loss: 8.8106\n",
            "Epoch 21/50\n",
            "118/118 [==============================] - 41s 350ms/step - loss: 8.6414\n",
            "Epoch 22/50\n",
            "118/118 [==============================] - 41s 349ms/step - loss: 8.4556\n",
            "Epoch 23/50\n",
            "118/118 [==============================] - 41s 349ms/step - loss: 8.2859\n",
            "Epoch 24/50\n",
            "118/118 [==============================] - 41s 350ms/step - loss: 8.1433\n",
            "Epoch 25/50\n",
            "118/118 [==============================] - 41s 349ms/step - loss: 7.9682\n",
            "Epoch 26/50\n",
            "118/118 [==============================] - 41s 349ms/step - loss: 7.8894\n",
            "Epoch 27/50\n",
            "118/118 [==============================] - 41s 349ms/step - loss: 7.7474\n",
            "Epoch 28/50\n",
            "118/118 [==============================] - 41s 349ms/step - loss: 7.6163\n",
            "Epoch 29/50\n",
            "118/118 [==============================] - 41s 349ms/step - loss: 7.5623\n",
            "Epoch 30/50\n",
            "118/118 [==============================] - 41s 349ms/step - loss: 7.4362\n",
            "Epoch 31/50\n",
            "118/118 [==============================] - 41s 350ms/step - loss: 7.3134\n",
            "Epoch 32/50\n",
            "118/118 [==============================] - 41s 350ms/step - loss: 7.0807\n",
            "Epoch 33/50\n",
            "118/118 [==============================] - 41s 349ms/step - loss: 7.1077\n",
            "Epoch 34/50\n",
            "118/118 [==============================] - 41s 349ms/step - loss: 7.0009\n",
            "Epoch 35/50\n",
            "118/118 [==============================] - 41s 348ms/step - loss: 7.0334\n",
            "Epoch 36/50\n",
            "118/118 [==============================] - 41s 349ms/step - loss: 6.8191\n",
            "Epoch 37/50\n",
            "118/118 [==============================] - 41s 349ms/step - loss: 6.6414\n",
            "Epoch 38/50\n",
            "118/118 [==============================] - 41s 349ms/step - loss: 6.5318\n",
            "Epoch 39/50\n",
            "118/118 [==============================] - 41s 349ms/step - loss: 6.9495\n",
            "Epoch 40/50\n",
            "118/118 [==============================] - 41s 349ms/step - loss: 8.7624\n",
            "Epoch 41/50\n",
            "118/118 [==============================] - 41s 350ms/step - loss: 9.4944\n",
            "Epoch 42/50\n",
            "118/118 [==============================] - 41s 349ms/step - loss: 9.0829\n",
            "Epoch 43/50\n",
            "118/118 [==============================] - 41s 349ms/step - loss: 8.3360\n",
            "Epoch 44/50\n",
            "118/118 [==============================] - 41s 350ms/step - loss: 7.7684\n",
            "Epoch 45/50\n",
            "118/118 [==============================] - 41s 349ms/step - loss: 7.3236\n",
            "Epoch 46/50\n",
            "118/118 [==============================] - 41s 349ms/step - loss: 6.8148\n",
            "Epoch 47/50\n",
            "118/118 [==============================] - 41s 349ms/step - loss: 6.4408\n",
            "Epoch 48/50\n",
            "118/118 [==============================] - 41s 349ms/step - loss: 6.3234\n",
            "Epoch 49/50\n",
            "118/118 [==============================] - 41s 348ms/step - loss: 6.4438\n",
            "Epoch 50/50\n",
            "118/118 [==============================] - 41s 349ms/step - loss: 6.0772\n"
          ]
        }
      ]
    },
    {
      "cell_type": "code",
      "source": [
        "# Sanity check: plot loss transition\n",
        "plt.plot(history.history[\"loss\"])\n",
        "plt.ylabel(\"loss\")\n",
        "plt.xlabel(\"epoch\")\n",
        "plt.show()"
      ],
      "metadata": {
        "colab": {
          "base_uri": "https://localhost:8080/",
          "height": 279
        },
        "id": "NSZLI1AMWnEU",
        "outputId": "95eebde0-c6bb-4e2e-a543-7cf0056d7e0b"
      },
      "execution_count": 12,
      "outputs": [
        {
          "output_type": "display_data",
          "data": {
            "text/plain": [
              "<Figure size 432x288 with 1 Axes>"
            ],
            "image/png": "[encoded data removed]"
          },
          "metadata": {
            "needs_background": "light"
          }
        }
      ]
    },
    {
      "cell_type": "code",
      "source": [
        "# Summarize model\n",
        "representation_learner.summary()"
      ],
      "metadata": {
        "colab": {
          "base_uri": "https://localhost:8080/"
        },
        "id": "8Ye4ytz4kjVT",
        "outputId": "8feee800-f69c-43f6-f2bb-f6d6407cb16a"
      },
      "execution_count": 38,
      "outputs": [
        {
          "output_type": "stream",
          "name": "stdout",
          "text": [
            "Model: \"representation_learner\"\n",
            "_________________________________________________________________\n",
            " Layer (type)                Output Shape              Param #   \n",
            "=================================================================\n",
            " sequential_2 (Sequential)   (None, 512)               24613888  \n",
            "                                                                 \n",
            " sequential_3 (Sequential)   (None, 128)               66048     \n",
            "                                                                 \n",
            "=================================================================\n",
            "Total params: 24,679,938\n",
            "Trainable params: 24,634,240\n",
            "Non-trainable params: 45,698\n",
            "_________________________________________________________________\n"
          ]
        }
      ]
    },
    {
      "cell_type": "code",
      "source": [
        "representation_learner.encoder.summary()"
      ],
      "metadata": {
        "colab": {
          "base_uri": "https://localhost:8080/"
        },
        "id": "Z52uUXoYsEI0",
        "outputId": "aa8ef18f-c822-4a5a-b0d0-bede3f427372"
      },
      "execution_count": 51,
      "outputs": [
        {
          "output_type": "stream",
          "name": "stdout",
          "text": [
            "Model: \"sequential_2\"\n",
            "_________________________________________________________________\n",
            " Layer (type)                Output Shape              Param #   \n",
            "=================================================================\n",
            " resnet50v2 (Functional)     (None, 2048)              23564800  \n",
            "                                                                 \n",
            " dense (Dense)               (None, 512)               1049088   \n",
            "                                                                 \n",
            "=================================================================\n",
            "Total params: 24,613,888\n",
            "Trainable params: 24,568,448\n",
            "Non-trainable params: 45,440\n",
            "_________________________________________________________________\n"
          ]
        }
      ]
    },
    {
      "cell_type": "markdown",
      "source": [
        "# Save model"
      ],
      "metadata": {
        "id": "ApQJ2zIVq4KK"
      }
    },
    {
      "cell_type": "code",
      "source": [
        "representation_learner.save_weights('/content/drive/MyDrive/Soco/Fashion/models/0720/model.weights')"
      ],
      "metadata": {
        "id": "ZodFJ9IKqqeE"
      },
      "execution_count": 83,
      "outputs": []
    },
    {
      "cell_type": "markdown",
      "source": [
        "# Check Attention using Gradcam "
      ],
      "metadata": {
        "id": "KCqRsomUX0yD"
      }
    },
    {
      "cell_type": "markdown",
      "source": [
        "## Calculate Heatmap"
      ],
      "metadata": {
        "id": "8VYZ2uKh1uOX"
      }
    },
    {
      "cell_type": "code",
      "source": [
        "from keras.layers import Input\n",
        "\n",
        "def get_img_array(img_path, size):\n",
        "    # `img` is a PIL image of size 299x299\n",
        "    img = keras.preprocessing.image.load_img(img_path, target_size=size)\n",
        "    # `array` is a float32 Numpy array of shape (299, 299, 3)\n",
        "    array = keras.preprocessing.image.img_to_array(img)\n",
        "    # We add a dimension to transform our array into a \"batch\"\n",
        "    # of size (1, 299, 299, 3)\n",
        "    array = np.expand_dims(array, axis=0)\n",
        "    return array\n",
        "\n",
        "\n",
        "def make_gradcam_heatmap(img_array, model, last_conv_layer_output_ph, pred_index=None):\n",
        "    # First, we create a model that maps the input image to the activations\n",
        "    # of the last conv layer as well as the output predictions\n",
        "\n",
        "    m = model\n",
        "    \n",
        "    grad_model = tf.keras.models.Model(\n",
        "        [m.inputs], \n",
        "        [\n",
        "            # m.get_layer(last_conv_layer_name).output,\n",
        "            last_conv_layer_output_ph,\n",
        "            # m.get_layer('dense').outputs\n",
        "            m.outputs\n",
        "        ]\n",
        "    )\n",
        "\n",
        "    # Then, we compute the gradient of the top predicted class for our input image\n",
        "    # with respect to the activations of the last conv layer\n",
        "    with tf.GradientTape() as tape:\n",
        "        last_conv_layer_output, preds = grad_model(img_array)\n",
        "        if pred_index is None:\n",
        "            # ? if pred_index is not specified, get the index of the channel with the highest activation\n",
        "            pred_index = tf.argmax(preds[0][0])\n",
        "        class_channel = preds[0][0][pred_index]\n",
        "        \n",
        "        # print(preds[0][0])\n",
        "        # print(\"class_channel\")\n",
        "        # print(class_channel)\n",
        "        # print(\"preds\")\n",
        "        # print(len(preds))\n",
        "        # print(len(preds[0]))\n",
        "        # print(len(preds[0][0]))\n",
        "\n",
        "    # This is the gradient of the output neuron (top predicted or chosen)\n",
        "    # with regard to the output feature map of the last conv layer\n",
        "    grads = tape.gradient(class_channel, last_conv_layer_output)\n",
        "    \n",
        "    print(grads.shape)\n",
        "    print(grads[0])\n",
        "    # print(grads[0][0][0])\n",
        "    # print(\"grads\")\n",
        "    # print(grads)\n",
        "\n",
        "    # This is a vector where each entry is the mean intensity of the gradient\n",
        "    # over a specific feature map channel\n",
        "\n",
        "    pooled_grads = tf.reduce_mean(grads, axis=(0, 1, 2))\n",
        "\n",
        "    # print(\"pooled\")\n",
        "    # print(pooled_grads)\n",
        "\n",
        "    # We multiply each channel in the feature map array\n",
        "    # by \"how important this channel is\" with regard to the top predicted class\n",
        "    # then sum all the channels to obtain the heatmap class activation\n",
        "\n",
        "    # print(last_conv_layer_output.shape)\n",
        "    \n",
        "    last_conv_layer_output = last_conv_layer_output[0]\n",
        "    heatmap = last_conv_layer_output @ pooled_grads[..., tf.newaxis]\n",
        "    heatmap = tf.squeeze(heatmap)\n",
        "\n",
        "    # For visualization purpose, we will also normalize the heatmap between 0 & 1\n",
        "    heatmap = tf.maximum(heatmap, 0) / tf.math.reduce_max(heatmap)\n",
        "    return heatmap.numpy()"
      ],
      "metadata": {
        "id": "3uAvW3rUX62v"
      },
      "execution_count": 58,
      "outputs": []
    },
    {
      "cell_type": "code",
      "source": [
        "def make_gradcam_heatmap(img_array, grad_model, pred_index=None):\n",
        "    # First, we create a model that maps the input image to the activations\n",
        "    # of the last conv layer as well as the output predictions\n",
        "\n",
        "    # Then, we compute the gradient of the top predicted class for our input image\n",
        "    # with respect to the activations of the last conv layer\n",
        "    with tf.GradientTape() as tape:\n",
        "        last_conv_layer_output, preds = grad_model(img_array)\n",
        "        \n",
        "        print(last_conv_layer_output.shape)\n",
        "        print(preds.shape)\n",
        "\n",
        "        if pred_index is None:\n",
        "            # ? if pred_index is not specified, get the index of the channel with the highest activation\n",
        "            pred_index = tf.argmax(preds[0])\n",
        "        class_channel = preds[0][pred_index]\n",
        "\n",
        "    # This is the gradient of the output neuron (top predicted or chosen)\n",
        "    # with regard to the output feature map of the last conv layer\n",
        "    grads = tape.gradient(class_channel, last_conv_layer_output)\n",
        "    \n",
        "    print(grads.shape)\n",
        "    # print(grads[0])\n",
        "    # print(grads[0][0][0])\n",
        "    # print(\"grads\")\n",
        "    # print(grads)\n",
        "\n",
        "    # This is a vector where each entry is the mean intensity of the gradient\n",
        "    # over a specific feature map channel\n",
        "\n",
        "    pooled_grads = tf.reduce_mean(grads, axis=(0, 1, 2))\n",
        "\n",
        "    # print(\"pooled\")\n",
        "    print(pooled_grads.shape)\n",
        "\n",
        "    # We multiply each channel in the feature map array\n",
        "    # by \"how important this channel is\" with regard to the top predicted class\n",
        "    # then sum all the channels to obtain the heatmap class activation\n",
        "\n",
        "    # print(last_conv_layer_output.shape)\n",
        "    \n",
        "    last_conv_layer_output = last_conv_layer_output[0]\n",
        "    heatmap = last_conv_layer_output @ pooled_grads[..., tf.newaxis]\n",
        "    heatmap = tf.squeeze(heatmap)\n",
        "\n",
        "    # For visualization purpose, we will also normalize the heatmap between 0 & 1\n",
        "    heatmap = tf.maximum(heatmap, 0) / tf.math.reduce_max(heatmap)\n",
        "    return heatmap.numpy()"
      ],
      "metadata": {
        "id": "JMfWSHzIuXbM"
      },
      "execution_count": 89,
      "outputs": []
    },
    {
      "cell_type": "code",
      "source": [
        "img = x_data[0].reshape(1, target_size, target_size, 3)\n",
        "\n",
        "layer_name = \"conv2_block3_1_relu\"\n",
        "target_model = representation_learner.encoder\n",
        "# resnet = target_model.get_layer('resnet50v2')\n",
        "resnet = target_model.layers[0]\n",
        "\n",
        "grad_sub_model = tf.keras.models.Model(\n",
        "    inputs=resnet.input,\n",
        "    outputs=[resnet.get_layer(layer_name).output, resnet.output]\n",
        ")\n",
        "\n",
        "# contruct grad model\n",
        "inputs = grad_sub_model.inputs\n",
        "tmp, preds = grad_sub_model(inputs)\n",
        "preds = target_model.layers[1](preds)\n",
        "grad_model = tf.keras.models.Model(inputs, [tmp, preds])\n",
        "\n",
        "\n",
        "heatmap = make_gradcam_heatmap(img, grad_model) # this isn't the last conv layer, but it had a nice response"
      ],
      "metadata": {
        "colab": {
          "base_uri": "https://localhost:8080/"
        },
        "id": "sgDsr1f3fO1c",
        "outputId": "a6cb5a82-6010-46c6-fb65-44f076384f3d"
      },
      "execution_count": 90,
      "outputs": [
        {
          "output_type": "stream",
          "name": "stdout",
          "text": [
            "(1, 8, 8, 64)\n",
            "(1, 512)\n",
            "(1, 8, 8, 64)\n",
            "(64,)\n"
          ]
        }
      ]
    },
    {
      "cell_type": "code",
      "source": [
        "# Sanity check: check the output isn't 0\n",
        "representation_learner(img).shape"
      ],
      "metadata": {
        "colab": {
          "base_uri": "https://localhost:8080/"
        },
        "id": "mLvQNw5HfWyF",
        "outputId": "fe8ebdd5-2e2c-442d-9991-87cb5661d6df"
      },
      "execution_count": 94,
      "outputs": [
        {
          "output_type": "execute_result",
          "data": {
            "text/plain": [
              "TensorShape([2, 128])"
            ]
          },
          "metadata": {},
          "execution_count": 94
        }
      ]
    },
    {
      "cell_type": "code",
      "source": [
        "# Sanity check: print grad and check there's atleast one feature that is not 0\n",
        "\n",
        "img = x_data[0].reshape(1, target_size, target_size, 3)\n",
        "layer_name = \"dense_1\"\n",
        "target_model = representation_learner.projector\n",
        "last_layer_output_ph = target_model.get_layer(layer_name).output\n",
        "\n",
        "heatmap = make_gradcam_heatmap(representation_learner.encoder(img), target_model, last_layer_output_ph) # this isn't the last conv layer, but it had a nice response"
      ],
      "metadata": {
        "colab": {
          "base_uri": "https://localhost:8080/",
          "height": 792
        },
        "id": "_RX_19I-gOts",
        "outputId": "4c12e506-6d98-4f6f-ac32-e7ae7769914c"
      },
      "execution_count": 32,
      "outputs": [
        {
          "output_type": "stream",
          "name": "stdout",
          "text": [
            "(1, 128)\n",
            "tf.Tensor(\n",
            "[0.         0.         0.         0.         0.         0.\n",
            " 0.         0.         0.         0.         0.         0.\n",
            " 0.         0.         0.         0.         0.         0.\n",
            " 0.         0.         0.         0.         0.         0.\n",
            " 0.         0.         0.         0.         0.         0.\n",
            " 0.         0.         0.         0.         0.         0.\n",
            " 0.         0.         0.         0.         0.         0.\n",
            " 0.         0.         0.         0.         0.         0.\n",
            " 0.         0.         0.         0.         0.         0.\n",
            " 0.         0.         0.         0.         0.         0.\n",
            " 0.         0.         0.         0.         0.         0.\n",
            " 0.         0.         0.         0.         0.         0.\n",
            " 0.         0.         0.         0.         0.         0.\n",
            " 0.         0.         0.         0.         0.         0.17034726\n",
            " 0.         0.         0.         0.         0.         0.\n",
            " 0.         0.         0.         0.         0.         0.\n",
            " 0.         0.         0.         0.         0.         0.\n",
            " 0.         0.         0.         0.         0.         0.\n",
            " 0.         0.         0.         0.         0.         0.\n",
            " 0.         0.         0.         0.         0.         0.\n",
            " 0.         0.         0.         0.         0.         0.\n",
            " 0.         0.        ], shape=(128,), dtype=float32)\n"
          ]
        },
        {
          "output_type": "error",
          "ename": "InvalidArgumentError",
          "evalue": "ignored",
          "traceback": [
            "\u001b[0;31m---------------------------------------------------------------------------\u001b[0m",
            "\u001b[0;31mInvalidArgumentError\u001b[0m                      Traceback (most recent call last)",
            "\u001b[0;32m<ipython-input-32-ab9ab44c0ddc>\u001b[0m in \u001b[0;36m<module>\u001b[0;34m()\u001b[0m\n\u001b[1;32m      6\u001b[0m \u001b[0mlast_layer_output_ph\u001b[0m \u001b[0;34m=\u001b[0m \u001b[0mtarget_model\u001b[0m\u001b[0;34m.\u001b[0m\u001b[0mget_layer\u001b[0m\u001b[0;34m(\u001b[0m\u001b[0mlayer_name\u001b[0m\u001b[0;34m)\u001b[0m\u001b[0;34m.\u001b[0m\u001b[0moutput\u001b[0m\u001b[0;34m\u001b[0m\u001b[0;34m\u001b[0m\u001b[0m\n\u001b[1;32m      7\u001b[0m \u001b[0;34m\u001b[0m\u001b[0m\n\u001b[0;32m----> 8\u001b[0;31m \u001b[0mheatmap\u001b[0m \u001b[0;34m=\u001b[0m \u001b[0mmake_gradcam_heatmap\u001b[0m\u001b[0;34m(\u001b[0m\u001b[0mrepresentation_learner\u001b[0m\u001b[0;34m.\u001b[0m\u001b[0mencoder\u001b[0m\u001b[0;34m(\u001b[0m\u001b[0mimg\u001b[0m\u001b[0;34m)\u001b[0m\u001b[0;34m,\u001b[0m \u001b[0mtarget_model\u001b[0m\u001b[0;34m,\u001b[0m \u001b[0mlast_layer_output_ph\u001b[0m\u001b[0;34m)\u001b[0m \u001b[0;31m# this isn't the last conv layer, but it had a nice response\u001b[0m\u001b[0;34m\u001b[0m\u001b[0;34m\u001b[0m\u001b[0m\n\u001b[0m",
            "\u001b[0;32m<ipython-input-29-92cdd3e77d87>\u001b[0m in \u001b[0;36mmake_gradcam_heatmap\u001b[0;34m(img_array, model, last_conv_layer_output_ph, pred_index)\u001b[0m\n\u001b[1;32m     57\u001b[0m     \u001b[0;31m# over a specific feature map channel\u001b[0m\u001b[0;34m\u001b[0m\u001b[0;34m\u001b[0m\u001b[0;34m\u001b[0m\u001b[0m\n\u001b[1;32m     58\u001b[0m \u001b[0;34m\u001b[0m\u001b[0m\n\u001b[0;32m---> 59\u001b[0;31m     \u001b[0mpooled_grads\u001b[0m \u001b[0;34m=\u001b[0m \u001b[0mtf\u001b[0m\u001b[0;34m.\u001b[0m\u001b[0mreduce_mean\u001b[0m\u001b[0;34m(\u001b[0m\u001b[0mgrads\u001b[0m\u001b[0;34m,\u001b[0m \u001b[0maxis\u001b[0m\u001b[0;34m=\u001b[0m\u001b[0;34m(\u001b[0m\u001b[0;36m0\u001b[0m\u001b[0;34m,\u001b[0m \u001b[0;36m1\u001b[0m\u001b[0;34m,\u001b[0m \u001b[0;36m2\u001b[0m\u001b[0;34m)\u001b[0m\u001b[0;34m)\u001b[0m\u001b[0;34m\u001b[0m\u001b[0;34m\u001b[0m\u001b[0m\n\u001b[0m\u001b[1;32m     60\u001b[0m \u001b[0;34m\u001b[0m\u001b[0m\n\u001b[1;32m     61\u001b[0m     \u001b[0;31m# print(\"pooled\")\u001b[0m\u001b[0;34m\u001b[0m\u001b[0;34m\u001b[0m\u001b[0;34m\u001b[0m\u001b[0m\n",
            "\u001b[0;32m/usr/local/lib/python3.7/dist-packages/tensorflow/python/util/traceback_utils.py\u001b[0m in \u001b[0;36merror_handler\u001b[0;34m(*args, **kwargs)\u001b[0m\n\u001b[1;32m    151\u001b[0m     \u001b[0;32mexcept\u001b[0m \u001b[0mException\u001b[0m \u001b[0;32mas\u001b[0m \u001b[0me\u001b[0m\u001b[0;34m:\u001b[0m\u001b[0;34m\u001b[0m\u001b[0;34m\u001b[0m\u001b[0m\n\u001b[1;32m    152\u001b[0m       \u001b[0mfiltered_tb\u001b[0m \u001b[0;34m=\u001b[0m \u001b[0m_process_traceback_frames\u001b[0m\u001b[0;34m(\u001b[0m\u001b[0me\u001b[0m\u001b[0;34m.\u001b[0m\u001b[0m__traceback__\u001b[0m\u001b[0;34m)\u001b[0m\u001b[0;34m\u001b[0m\u001b[0;34m\u001b[0m\u001b[0m\n\u001b[0;32m--> 153\u001b[0;31m       \u001b[0;32mraise\u001b[0m \u001b[0me\u001b[0m\u001b[0;34m.\u001b[0m\u001b[0mwith_traceback\u001b[0m\u001b[0;34m(\u001b[0m\u001b[0mfiltered_tb\u001b[0m\u001b[0;34m)\u001b[0m \u001b[0;32mfrom\u001b[0m \u001b[0;32mNone\u001b[0m\u001b[0;34m\u001b[0m\u001b[0;34m\u001b[0m\u001b[0m\n\u001b[0m\u001b[1;32m    154\u001b[0m     \u001b[0;32mfinally\u001b[0m\u001b[0;34m:\u001b[0m\u001b[0;34m\u001b[0m\u001b[0;34m\u001b[0m\u001b[0m\n\u001b[1;32m    155\u001b[0m       \u001b[0;32mdel\u001b[0m \u001b[0mfiltered_tb\u001b[0m\u001b[0;34m\u001b[0m\u001b[0;34m\u001b[0m\u001b[0m\n",
            "\u001b[0;32m/usr/local/lib/python3.7/dist-packages/tensorflow/python/eager/execute.py\u001b[0m in \u001b[0;36mquick_execute\u001b[0;34m(op_name, num_outputs, inputs, attrs, ctx, name)\u001b[0m\n\u001b[1;32m     53\u001b[0m     \u001b[0mctx\u001b[0m\u001b[0;34m.\u001b[0m\u001b[0mensure_initialized\u001b[0m\u001b[0;34m(\u001b[0m\u001b[0;34m)\u001b[0m\u001b[0;34m\u001b[0m\u001b[0;34m\u001b[0m\u001b[0m\n\u001b[1;32m     54\u001b[0m     tensors = pywrap_tfe.TFE_Py_Execute(ctx._handle, device_name, op_name,\n\u001b[0;32m---> 55\u001b[0;31m                                         inputs, attrs, num_outputs)\n\u001b[0m\u001b[1;32m     56\u001b[0m   \u001b[0;32mexcept\u001b[0m \u001b[0mcore\u001b[0m\u001b[0;34m.\u001b[0m\u001b[0m_NotOkStatusException\u001b[0m \u001b[0;32mas\u001b[0m \u001b[0me\u001b[0m\u001b[0;34m:\u001b[0m\u001b[0;34m\u001b[0m\u001b[0;34m\u001b[0m\u001b[0m\n\u001b[1;32m     57\u001b[0m     \u001b[0;32mif\u001b[0m \u001b[0mname\u001b[0m \u001b[0;32mis\u001b[0m \u001b[0;32mnot\u001b[0m \u001b[0;32mNone\u001b[0m\u001b[0;34m:\u001b[0m\u001b[0;34m\u001b[0m\u001b[0;34m\u001b[0m\u001b[0m\n",
            "\u001b[0;31mInvalidArgumentError\u001b[0m: Invalid reduction dimension (2 for input with 2 dimension(s) [Op:Mean]"
          ]
        }
      ]
    },
    {
      "cell_type": "markdown",
      "source": [
        "## Plot heat map"
      ],
      "metadata": {
        "id": "rYU2Ja0agje8"
      }
    },
    {
      "cell_type": "code",
      "source": [
        "import numpy as np\n",
        "import matplotlib.cm as cm\n",
        "\n",
        "def display_image(img_array, heatmap_array, alpha=0.4):\n",
        "    heatmap = np.uint8(255 * heatmap_array)\n",
        "    \n",
        "    jet = cm.get_cmap(\"jet\")\n",
        "    # Use RGB values of the colormap\n",
        "    jet_colors = jet(np.arange(256))[:, :3]\n",
        "    jet_heatmap = jet_colors[heatmap]\n",
        "    # Create an image with RGB colorized heatmap\n",
        "    jet_heatmap = keras.preprocessing.image.array_to_img(jet_heatmap)\n",
        "    jet_heatmap = jet_heatmap.resize((img_array.shape[1], img_array.shape[0]))\n",
        "    jet_heatmap = keras.preprocessing.image.img_to_array(jet_heatmap)\n",
        "    \n",
        "    # Superimpose the heatmap on original image\n",
        "    superimposed_img = jet_heatmap * alpha + img_array\n",
        "    # superimposed_img = keras.preprocessing.image.array_to_img(superimposed_img)\n",
        "    \n",
        "\n",
        "    plt.matshow(jet_heatmap/255)\n",
        "    plt.matshow(img_array/255)\n",
        "    plt.matshow(superimposed_img/255)\n",
        "\n",
        "    # Save the superimposed image\n",
        "    # superimposed_img.save(cam_path)\n",
        "\n",
        "    # Display Grad CAM\n",
        "    # display(Image(cam_path))"
      ],
      "metadata": {
        "id": "cO1km7kn1yeS"
      },
      "execution_count": 92,
      "outputs": []
    },
    {
      "cell_type": "code",
      "source": [
        "display_image(img.reshape(32,32,3), heatmap)"
      ],
      "metadata": {
        "colab": {
          "base_uri": "https://localhost:8080/",
          "height": 809
        },
        "id": "gpy2mHc811q1",
        "outputId": "e34358bc-9615-4533-a01b-2dfbaeedb556"
      },
      "execution_count": 93,
      "outputs": [
        {
          "output_type": "stream",
          "name": "stderr",
          "text": [
            "WARNING:matplotlib.image:Clipping input data to the valid range for imshow with RGB data ([0..1] for floats or [0..255] for integers).\n"
          ]
        },
        {
          "output_type": "display_data",
          "data": {
            "text/plain": [
              "<Figure size 288x288 with 1 Axes>"
            ],
            "image/png": "[encoded data removed]"
          },
          "metadata": {
            "needs_background": "light"
          }
        },
        {
          "output_type": "display_data",
          "data": {
            "text/plain": [
              "<Figure size 288x288 with 1 Axes>"
            ],
            "image/png": "[encoded data removed]"
          },
          "metadata": {
            "needs_background": "light"
          }
        },
        {
          "output_type": "display_data",
          "data": {
            "text/plain": [
              "<Figure size 288x288 with 1 Axes>"
            ],
            "image/png": "[encoded data removed]"
          },
          "metadata": {
            "needs_background": "light"
          }
        }
      ]
    },
    {
      "cell_type": "code",
      "source": [
        ""
      ],
      "metadata": {
        "id": "UToD_t0B17ar"
      },
      "execution_count": null,
      "outputs": []
    }
  ]
}