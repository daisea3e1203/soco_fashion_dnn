{
  "nbformat": 4,
  "nbformat_minor": 0,
  "metadata": {
    "colab": {
      "name": "03_gradcam_on_representation_learner.ipynb",
      "provenance": [],
      "collapsed_sections": [],
      "mount_file_id": "1gEH6O-_UtSGbHMgmtuKc4qAqa0t9HqCh",
      "authorship_tag": "ABX9TyOHoMbsyF3Cy+/PLc0clt+4",
      "include_colab_link": true
    },
    "kernelspec": {
      "name": "python3",
      "display_name": "Python 3"
    },
    "language_info": {
      "name": "python"
    },
    "accelerator": "GPU",
    "gpuClass": "standard"
  },
  "cells": [
    {
      "cell_type": "markdown",
      "metadata": {
        "id": "view-in-github",
        "colab_type": "text"
      },
      "source": [
        "<a href=\"https://colab.research.google.com/github/daisea3e1203/soco_fashion_dnn/blob/main/03_gradcam_on_representation_learner.ipynb\" target=\"_parent\"><img src=\"https://colab.research.google.com/assets/colab-badge.svg\" alt=\"Open In Colab\"/></a>"
      ]
    },
    {
      "cell_type": "code",
      "execution_count": 1,
      "metadata": {
        "colab": {
          "base_uri": "https://localhost:8080/"
        },
        "id": "hHjJa9KFUAVa",
        "outputId": "fcf249ed-e50a-4bcc-dd17-4611c5d5f41c"
      },
      "outputs": [
        {
          "output_type": "stream",
          "name": "stdout",
          "text": [
            "Looking in indexes: https://pypi.org/simple, https://us-python.pkg.dev/colab-wheels/public/simple/\n",
            "Collecting tensorflow-addons\n",
            "  Downloading tensorflow_addons-0.17.1-cp37-cp37m-manylinux_2_17_x86_64.manylinux2014_x86_64.whl (1.1 MB)\n",
            "\u001b[K     |████████████████████████████████| 1.1 MB 4.2 MB/s \n",
            "\u001b[?25hRequirement already satisfied: typeguard>=2.7 in /usr/local/lib/python3.7/dist-packages (from tensorflow-addons) (2.7.1)\n",
            "Requirement already satisfied: packaging in /usr/local/lib/python3.7/dist-packages (from tensorflow-addons) (21.3)\n",
            "Requirement already satisfied: pyparsing!=3.0.5,>=2.0.2 in /usr/local/lib/python3.7/dist-packages (from packaging->tensorflow-addons) (3.0.9)\n",
            "Installing collected packages: tensorflow-addons\n",
            "Successfully installed tensorflow-addons-0.17.1\n"
          ]
        }
      ],
      "source": [
        "!pip install tensorflow-addons"
      ]
    },
    {
      "cell_type": "markdown",
      "source": [
        "# Import"
      ],
      "metadata": {
        "id": "7U-wyErJVUbz"
      }
    },
    {
      "cell_type": "code",
      "source": [
        "from collections import defaultdict\n",
        "import random\n",
        "import numpy as np\n",
        "import tensorflow as tf\n",
        "import tensorflow_addons as tfa\n",
        "from tensorflow import keras\n",
        "from tensorflow.keras import layers\n",
        "import matplotlib.pyplot as plt\n",
        "from tqdm import tqdm"
      ],
      "metadata": {
        "id": "7uNJi4nWUyNE"
      },
      "execution_count": 2,
      "outputs": []
    },
    {
      "cell_type": "markdown",
      "source": [
        "# Config\n"
      ],
      "metadata": {
        "id": "FS9fMltbVgcb"
      }
    },
    {
      "cell_type": "code",
      "source": [
        "target_size = 32  # Resize the input images.\n",
        "representation_dim = 512  # The dimensions of the features vector.\n",
        "projection_units = 128  # The projection head of the representation learner.\n",
        "num_clusters = 20  # Number of clusters.\n",
        "k_neighbours = 5  # Number of neighbours to consider during cluster learning.\n",
        "tune_encoder_during_clustering = False  # Freeze the encoder in the cluster learning."
      ],
      "metadata": {
        "id": "3OCAjsqkVZGL"
      },
      "execution_count": 3,
      "outputs": []
    },
    {
      "cell_type": "markdown",
      "source": [
        "# Prepare Data"
      ],
      "metadata": {
        "id": "DlZcdaPiVToM"
      }
    },
    {
      "cell_type": "code",
      "source": [
        "num_classes = 10\n",
        "input_shape = (32, 32, 3)\n",
        "\n",
        "(x_train, y_train), (x_test, y_test) = keras.datasets.cifar10.load_data()\n",
        "x_data = np.concatenate([x_train, x_test])\n",
        "y_data = np.concatenate([y_train, y_test])\n",
        "\n",
        "print(\"x_data shape:\", x_data.shape, \"- y_data shape:\", y_data.shape)\n",
        "\n",
        "classes = [\n",
        "    \"airplane\",\n",
        "    \"automobile\",\n",
        "    \"bird\",\n",
        "    \"cat\",\n",
        "    \"deer\",\n",
        "    \"dog\",\n",
        "    \"frog\",\n",
        "    \"horse\",\n",
        "    \"ship\",\n",
        "    \"truck\",\n",
        "]"
      ],
      "metadata": {
        "colab": {
          "base_uri": "https://localhost:8080/"
        },
        "id": "eHQeBnjNVXg0",
        "outputId": "8d8cd869-0a71-4d8c-c0a3-d60a5539061e"
      },
      "execution_count": 4,
      "outputs": [
        {
          "output_type": "stream",
          "name": "stdout",
          "text": [
            "Downloading data from https://www.cs.toronto.edu/~kriz/cifar-10-python.tar.gz\n",
            "170500096/170498071 [==============================] - 12s 0us/step\n",
            "170508288/170498071 [==============================] - 12s 0us/step\n",
            "x_data shape: (60000, 32, 32, 3) - y_data shape: (60000, 1)\n"
          ]
        }
      ]
    },
    {
      "cell_type": "code",
      "source": [
        "# input_shape = (32, 32, 3)\n",
        "\n",
        "# dataset = keras.utils.image_dataset_from_directory(\n",
        "#     '/content/drive/MyDrive/Soco/Fashion/dataset/襤褸 機械学習',\n",
        "#     image_size=(input_shape[0], input_shape[1]),\n",
        "#     batch_size=None\n",
        "# )\n",
        "# x_data = np.stack(list(dataset.map(lambda x, y: x)))"
      ],
      "metadata": {
        "id": "-Fu9DopoHfEl"
      },
      "execution_count": 5,
      "outputs": []
    },
    {
      "cell_type": "code",
      "source": [
        "print(x_data.shape)"
      ],
      "metadata": {
        "colab": {
          "base_uri": "https://localhost:8080/"
        },
        "id": "L9ZWYTAaKAKb",
        "outputId": "de70a0be-8671-46ab-b7b4-cd1346814fb8"
      },
      "execution_count": 6,
      "outputs": [
        {
          "output_type": "stream",
          "name": "stdout",
          "text": [
            "(60000, 32, 32, 3)\n"
          ]
        }
      ]
    },
    {
      "cell_type": "code",
      "source": [
        "data_preprocessing = keras.Sequential(\n",
        "    [\n",
        "        layers.Resizing(target_size, target_size),\n",
        "        layers.Normalization(),\n",
        "    ]\n",
        ")\n",
        "# Compute the mean and the variance from the data for normalization.\n",
        "data_preprocessing.layers[-1].adapt(x_data)"
      ],
      "metadata": {
        "id": "C4P9piW_VmKD"
      },
      "execution_count": 7,
      "outputs": []
    },
    {
      "cell_type": "code",
      "source": [
        "data_augmentation = keras.Sequential(\n",
        "    [\n",
        "        layers.RandomTranslation(\n",
        "            height_factor=(-0.2, 0.2), width_factor=(-0.2, 0.2), fill_mode=\"nearest\"\n",
        "        ),\n",
        "        layers.RandomFlip(mode=\"horizontal\"),\n",
        "        layers.RandomRotation(\n",
        "            factor=0.15, fill_mode=\"nearest\"\n",
        "        ),\n",
        "        layers.RandomZoom(\n",
        "            height_factor=(-0.3, 0.1), width_factor=(-0.3, 0.1), fill_mode=\"nearest\"\n",
        "        )\n",
        "    ]\n",
        ")"
      ],
      "metadata": {
        "id": "WP___6aDVovS"
      },
      "execution_count": 8,
      "outputs": []
    },
    {
      "cell_type": "code",
      "source": [
        "# Sanity check: display random image\n",
        "image_idx = np.random.choice(range(x_data.shape[0]))\n",
        "image = x_data[image_idx]\n",
        "plt.figure(figsize=(3, 3))\n",
        "plt.imshow(x_data[image_idx].astype(\"uint8\"))\n",
        "_ = plt.axis(\"off\")"
      ],
      "metadata": {
        "colab": {
          "base_uri": "https://localhost:8080/",
          "height": 194
        },
        "id": "vWJ4X3TgVufc",
        "outputId": "434bd645-ed11-4e25-f01d-4502789f3121"
      },
      "execution_count": 9,
      "outputs": [
        {
          "output_type": "display_data",
          "data": {
            "text/plain": [
              "<Figure size 216x216 with 1 Axes>"
            ],
            "image/png": "[encoded data removed]"
          },
          "metadata": {
            "needs_background": "light"
          }
        }
      ]
    },
    {
      "cell_type": "code",
      "source": [
        "# Sanity check: display augmented images\n",
        "plt.figure(figsize=(10, 10))\n",
        "for i in range(9):\n",
        "    augmented_images = data_augmentation(np.array([image]))\n",
        "    ax = plt.subplot(3, 3, i + 1)\n",
        "    plt.imshow(augmented_images[0].numpy().astype(\"uint8\"))\n",
        "    plt.axis(\"off\")"
      ],
      "metadata": {
        "colab": {
          "base_uri": "https://localhost:8080/",
          "height": 575
        },
        "id": "raV28l4hVyaD",
        "outputId": "3860c534-6f71-4cc6-8d9f-50667c452486"
      },
      "execution_count": 10,
      "outputs": [
        {
          "output_type": "display_data",
          "data": {
            "text/plain": [
              "<Figure size 720x720 with 9 Axes>"
            ],
            "image/png": "[encoded data removed]"
          },
          "metadata": {
            "needs_background": "light"
          }
        }
      ]
    },
    {
      "cell_type": "markdown",
      "source": [
        "# Implement Model"
      ],
      "metadata": {
        "id": "0BR1P1iIV2H7"
      }
    },
    {
      "cell_type": "markdown",
      "source": [
        "## Vision Encoder\n"
      ],
      "metadata": {
        "id": "rMvAslR7V9nL"
      }
    },
    {
      "cell_type": "code",
      "source": [
        "def create_encoder(representation_dim):\n",
        "    encoder = keras.Sequential(\n",
        "        [\n",
        "            keras.applications.ResNet50V2(\n",
        "                include_top=False, weights=None, pooling=\"avg\"\n",
        "            ),\n",
        "            layers.Dense(representation_dim),\n",
        "        ]\n",
        "    )\n",
        "    return encoder"
      ],
      "metadata": {
        "id": "LlgreDxvV5ej"
      },
      "execution_count": 11,
      "outputs": []
    },
    {
      "cell_type": "markdown",
      "source": [
        "## Unsupervised Contrastive Loss"
      ],
      "metadata": {
        "id": "-XRoA0-AV_ez"
      }
    },
    {
      "cell_type": "code",
      "source": [
        "class RepresentationLearner(keras.Model):\n",
        "    def __init__(\n",
        "        self,\n",
        "        encoder,\n",
        "        projection_units,\n",
        "        num_augmentations,\n",
        "        temperature=1.0,\n",
        "        dropout_rate=0.1,\n",
        "        l2_normalize=False,\n",
        "        **kwargs\n",
        "    ):\n",
        "        super(RepresentationLearner, self).__init__(**kwargs)\n",
        "        self.encoder = encoder\n",
        "        # Create projection head.\n",
        "        self.projector = keras.Sequential(\n",
        "            [\n",
        "                layers.Dropout(dropout_rate),\n",
        "                layers.Dense(units=projection_units, use_bias=False),\n",
        "                layers.BatchNormalization(),\n",
        "                layers.ReLU(),\n",
        "            ]\n",
        "        )\n",
        "        self.num_augmentations = num_augmentations\n",
        "        self.temperature = temperature\n",
        "        self.l2_normalize = l2_normalize\n",
        "        self.loss_tracker = keras.metrics.Mean(name=\"loss\")\n",
        "\n",
        "    @property\n",
        "    def metrics(self):\n",
        "        return [self.loss_tracker]\n",
        "\n",
        "    def compute_contrastive_loss(self, feature_vectors, batch_size):\n",
        "        num_augmentations = tf.shape(feature_vectors)[0] // batch_size\n",
        "        if self.l2_normalize:\n",
        "            feature_vectors = tf.math.l2_normalize(feature_vectors, -1)\n",
        "        # The logits shape is [num_augmentations * batch_size, num_augmentations * batch_size].\n",
        "        logits = (\n",
        "            tf.linalg.matmul(feature_vectors, feature_vectors, transpose_b=True)\n",
        "            / self.temperature\n",
        "        )\n",
        "        # Apply log-max trick for numerical stability.\n",
        "        logits_max = tf.math.reduce_max(logits, axis=1)\n",
        "        logits = logits - logits_max\n",
        "        # The shape of targets is [num_augmentations * batch_size, num_augmentations * batch_size].\n",
        "        # targets is a matrix consits of num_augmentations submatrices of shape [batch_size * batch_size].\n",
        "        # Each [batch_size * batch_size] submatrix is an identity matrix (diagonal entries are ones).\n",
        "        targets = tf.tile(tf.eye(batch_size), [num_augmentations, num_augmentations])\n",
        "        # Compute cross entropy loss\n",
        "        return keras.losses.categorical_crossentropy(\n",
        "            y_true=targets, y_pred=logits, from_logits=True\n",
        "        )\n",
        "\n",
        "    def call(self, inputs):\n",
        "        # Preprocess the input images.\n",
        "        preprocessed = data_preprocessing(inputs)\n",
        "        # Create augmented versions of the images.\n",
        "        augmented = []\n",
        "        for _ in range(self.num_augmentations):\n",
        "            augmented.append(data_augmentation(preprocessed))\n",
        "        augmented = layers.Concatenate(axis=0)(augmented)\n",
        "        # Generate embedding representations of the images.\n",
        "        features = self.encoder(augmented)\n",
        "        # Apply projection head.\n",
        "        return self.projector(features)\n",
        "\n",
        "    def train_step(self, inputs):\n",
        "        batch_size = tf.shape(inputs)[0]\n",
        "        # Run the forward pass and compute the contrastive loss\n",
        "        with tf.GradientTape() as tape:\n",
        "            feature_vectors = self(inputs, training=True)\n",
        "            loss = self.compute_contrastive_loss(feature_vectors, batch_size)\n",
        "        # Compute gradients\n",
        "        trainable_vars = self.trainable_variables\n",
        "        gradients = tape.gradient(loss, trainable_vars)\n",
        "        # Update weights\n",
        "        self.optimizer.apply_gradients(zip(gradients, trainable_vars))\n",
        "        # Update loss tracker metric\n",
        "        self.loss_tracker.update_state(loss)\n",
        "        # Return a dict mapping metric names to current value\n",
        "        return {m.name: m.result() for m in self.metrics}\n",
        "\n",
        "    def test_step(self, inputs):\n",
        "        batch_size = tf.shape(inputs)[0]\n",
        "        feature_vectors = self(inputs, training=False)\n",
        "        loss = self.compute_contrastive_loss(feature_vectors, batch_size)\n",
        "        self.loss_tracker.update_state(loss)\n",
        "        return {\"loss\": self.loss_tracker.result()}"
      ],
      "metadata": {
        "id": "JHC6sB_rWCMM"
      },
      "execution_count": 12,
      "outputs": []
    },
    {
      "cell_type": "markdown",
      "source": [
        "# Train model"
      ],
      "metadata": {
        "id": "_s-B8AEnWE1o"
      }
    },
    {
      "cell_type": "code",
      "source": [
        "# Create vision encoder.\n",
        "encoder = create_encoder(representation_dim)\n",
        "# Create representation learner.\n",
        "representation_learner = RepresentationLearner(\n",
        "    encoder, projection_units, num_augmentations=2, temperature=0.1\n",
        ")\n",
        "# Create a a Cosine decay learning rate scheduler.\n",
        "lr_scheduler = keras.optimizers.schedules.CosineDecay(\n",
        "    initial_learning_rate=0.001, decay_steps=500, alpha=0.1\n",
        ")\n",
        "# Compile the model.\n",
        "representation_learner.compile(\n",
        "    optimizer=tfa.optimizers.AdamW(learning_rate=lr_scheduler, weight_decay=0.0001),\n",
        ")\n",
        "# Fit the model.\n",
        "history = representation_learner.fit(\n",
        "    x=x_data,\n",
        "    batch_size=512,\n",
        "    epochs=150,  # for better results, increase the number of epochs to 500.\n",
        ")"
      ],
      "metadata": {
        "colab": {
          "base_uri": "https://localhost:8080/"
        },
        "id": "78CihIMgWlsb",
        "outputId": "842315f7-6e48-4cae-838f-e25c0526950b"
      },
      "execution_count": 13,
      "outputs": [
        {
          "output_type": "stream",
          "name": "stdout",
          "text": [
            "Epoch 1/150\n",
            "118/118 [==============================] - 41s 210ms/step - loss: 38.1481\n",
            "Epoch 2/150\n",
            "118/118 [==============================] - 24s 201ms/step - loss: 11.8434\n",
            "Epoch 3/150\n",
            "118/118 [==============================] - 24s 202ms/step - loss: 11.2315\n",
            "Epoch 4/150\n",
            "118/118 [==============================] - 24s 203ms/step - loss: 10.9786\n",
            "Epoch 5/150\n",
            "118/118 [==============================] - 24s 202ms/step - loss: 10.8739\n",
            "Epoch 6/150\n",
            "118/118 [==============================] - 24s 201ms/step - loss: 10.8114\n",
            "Epoch 7/150\n",
            "118/118 [==============================] - 24s 202ms/step - loss: 10.7191\n",
            "Epoch 8/150\n",
            "118/118 [==============================] - 24s 202ms/step - loss: 10.6142\n",
            "Epoch 9/150\n",
            "118/118 [==============================] - 24s 203ms/step - loss: 10.4914\n",
            "Epoch 10/150\n",
            "118/118 [==============================] - 24s 202ms/step - loss: 10.3663\n",
            "Epoch 11/150\n",
            "118/118 [==============================] - 24s 202ms/step - loss: 10.3279\n",
            "Epoch 12/150\n",
            "118/118 [==============================] - 24s 202ms/step - loss: 10.2763\n",
            "Epoch 13/150\n",
            "118/118 [==============================] - 24s 202ms/step - loss: 9.9797\n",
            "Epoch 14/150\n",
            "118/118 [==============================] - 24s 202ms/step - loss: 9.7409\n",
            "Epoch 15/150\n",
            "118/118 [==============================] - 24s 201ms/step - loss: 9.5514\n",
            "Epoch 16/150\n",
            "118/118 [==============================] - 24s 202ms/step - loss: 9.3566\n",
            "Epoch 17/150\n",
            "118/118 [==============================] - 24s 202ms/step - loss: 9.1590\n",
            "Epoch 18/150\n",
            "118/118 [==============================] - 24s 202ms/step - loss: 8.9138\n",
            "Epoch 19/150\n",
            "118/118 [==============================] - 24s 202ms/step - loss: 8.7516\n",
            "Epoch 20/150\n",
            "118/118 [==============================] - 24s 202ms/step - loss: 8.5853\n",
            "Epoch 21/150\n",
            "118/118 [==============================] - 24s 202ms/step - loss: 8.5276\n",
            "Epoch 22/150\n",
            "118/118 [==============================] - 24s 202ms/step - loss: 8.2544\n",
            "Epoch 23/150\n",
            "118/118 [==============================] - 24s 202ms/step - loss: 8.2055\n",
            "Epoch 24/150\n",
            "118/118 [==============================] - 24s 201ms/step - loss: 8.0044\n",
            "Epoch 25/150\n",
            "118/118 [==============================] - 24s 202ms/step - loss: 7.8826\n",
            "Epoch 26/150\n",
            "118/118 [==============================] - 24s 202ms/step - loss: 7.6938\n",
            "Epoch 27/150\n",
            "118/118 [==============================] - 24s 202ms/step - loss: 7.6788\n",
            "Epoch 28/150\n",
            "118/118 [==============================] - 24s 202ms/step - loss: 7.5214\n",
            "Epoch 29/150\n",
            "118/118 [==============================] - 24s 202ms/step - loss: 7.3376\n",
            "Epoch 30/150\n",
            "118/118 [==============================] - 24s 203ms/step - loss: 7.2140\n",
            "Epoch 31/150\n",
            "118/118 [==============================] - 24s 202ms/step - loss: 7.0979\n",
            "Epoch 32/150\n",
            "118/118 [==============================] - 24s 202ms/step - loss: 6.9508\n",
            "Epoch 33/150\n",
            "118/118 [==============================] - 24s 202ms/step - loss: 6.9783\n",
            "Epoch 34/150\n",
            "118/118 [==============================] - 24s 202ms/step - loss: 6.7115\n",
            "Epoch 35/150\n",
            "118/118 [==============================] - 24s 202ms/step - loss: 6.5799\n",
            "Epoch 36/150\n",
            "118/118 [==============================] - 24s 202ms/step - loss: 6.5324\n",
            "Epoch 37/150\n",
            "118/118 [==============================] - 24s 202ms/step - loss: 6.3611\n",
            "Epoch 38/150\n",
            "118/118 [==============================] - 24s 202ms/step - loss: 6.3380\n",
            "Epoch 39/150\n",
            "118/118 [==============================] - 24s 203ms/step - loss: 6.0901\n",
            "Epoch 40/150\n",
            "118/118 [==============================] - 24s 203ms/step - loss: 6.0241\n",
            "Epoch 41/150\n",
            "118/118 [==============================] - 24s 203ms/step - loss: 6.2842\n",
            "Epoch 42/150\n",
            "118/118 [==============================] - 24s 204ms/step - loss: 5.9972\n",
            "Epoch 43/150\n",
            "118/118 [==============================] - 24s 204ms/step - loss: 6.2147\n",
            "Epoch 44/150\n",
            "118/118 [==============================] - 24s 203ms/step - loss: 6.0404\n",
            "Epoch 45/150\n",
            "118/118 [==============================] - 24s 203ms/step - loss: 5.8320\n",
            "Epoch 46/150\n",
            "118/118 [==============================] - 24s 204ms/step - loss: 5.6275\n",
            "Epoch 47/150\n",
            "118/118 [==============================] - 24s 203ms/step - loss: 5.9396\n",
            "Epoch 48/150\n",
            "118/118 [==============================] - 24s 202ms/step - loss: 6.4044\n",
            "Epoch 49/150\n",
            "118/118 [==============================] - 24s 202ms/step - loss: 5.7865\n",
            "Epoch 50/150\n",
            "118/118 [==============================] - 24s 203ms/step - loss: 5.9179\n",
            "Epoch 51/150\n",
            "118/118 [==============================] - 24s 202ms/step - loss: 5.9616\n",
            "Epoch 52/150\n",
            "118/118 [==============================] - 24s 202ms/step - loss: 5.8968\n",
            "Epoch 53/150\n",
            "118/118 [==============================] - 24s 202ms/step - loss: 6.1642\n",
            "Epoch 54/150\n",
            "118/118 [==============================] - 24s 202ms/step - loss: 5.7974\n",
            "Epoch 55/150\n",
            "118/118 [==============================] - 24s 202ms/step - loss: 5.9289\n",
            "Epoch 56/150\n",
            "118/118 [==============================] - 24s 202ms/step - loss: 5.6390\n",
            "Epoch 57/150\n",
            "118/118 [==============================] - 24s 204ms/step - loss: 5.3368\n",
            "Epoch 58/150\n",
            "118/118 [==============================] - 24s 203ms/step - loss: 6.3122\n",
            "Epoch 59/150\n",
            "118/118 [==============================] - 24s 202ms/step - loss: 4.9949\n",
            "Epoch 60/150\n",
            "118/118 [==============================] - 24s 202ms/step - loss: 4.3051\n",
            "Epoch 61/150\n",
            "118/118 [==============================] - 24s 202ms/step - loss: 4.0497\n",
            "Epoch 62/150\n",
            "118/118 [==============================] - 24s 202ms/step - loss: 3.8339\n",
            "Epoch 63/150\n",
            "118/118 [==============================] - 24s 203ms/step - loss: 3.7079\n",
            "Epoch 64/150\n",
            "118/118 [==============================] - 24s 202ms/step - loss: 3.6040\n",
            "Epoch 65/150\n",
            "118/118 [==============================] - 24s 202ms/step - loss: 3.5852\n",
            "Epoch 66/150\n",
            "118/118 [==============================] - 24s 202ms/step - loss: 3.4752\n",
            "Epoch 67/150\n",
            "118/118 [==============================] - 24s 202ms/step - loss: 3.3994\n",
            "Epoch 68/150\n",
            "118/118 [==============================] - 24s 202ms/step - loss: 3.3523\n",
            "Epoch 69/150\n",
            "118/118 [==============================] - 24s 203ms/step - loss: 3.2689\n",
            "Epoch 70/150\n",
            "118/118 [==============================] - 24s 202ms/step - loss: 3.3710\n",
            "Epoch 71/150\n",
            "118/118 [==============================] - 24s 202ms/step - loss: 3.3901\n",
            "Epoch 72/150\n",
            "118/118 [==============================] - 24s 202ms/step - loss: 3.1963\n",
            "Epoch 73/150\n",
            "118/118 [==============================] - 24s 202ms/step - loss: 3.1597\n",
            "Epoch 74/150\n",
            "118/118 [==============================] - 24s 202ms/step - loss: 3.0862\n",
            "Epoch 75/150\n",
            "118/118 [==============================] - 24s 202ms/step - loss: 3.0250\n",
            "Epoch 76/150\n",
            "118/118 [==============================] - 24s 202ms/step - loss: 2.9745\n",
            "Epoch 77/150\n",
            "118/118 [==============================] - 24s 202ms/step - loss: 2.9377\n",
            "Epoch 78/150\n",
            "118/118 [==============================] - 24s 203ms/step - loss: 2.8913\n",
            "Epoch 79/150\n",
            "118/118 [==============================] - 24s 202ms/step - loss: 2.8630\n",
            "Epoch 80/150\n",
            "118/118 [==============================] - 24s 202ms/step - loss: 2.8090\n",
            "Epoch 81/150\n",
            "118/118 [==============================] - 24s 202ms/step - loss: 2.7911\n",
            "Epoch 82/150\n",
            "118/118 [==============================] - 24s 203ms/step - loss: 2.7984\n",
            "Epoch 83/150\n",
            "118/118 [==============================] - 24s 202ms/step - loss: 2.7919\n",
            "Epoch 84/150\n",
            "118/118 [==============================] - 24s 202ms/step - loss: 2.7875\n",
            "Epoch 85/150\n",
            "118/118 [==============================] - 24s 202ms/step - loss: 2.7088\n",
            "Epoch 86/150\n",
            "118/118 [==============================] - 24s 202ms/step - loss: 2.6634\n",
            "Epoch 87/150\n",
            "118/118 [==============================] - 24s 202ms/step - loss: 2.6315\n",
            "Epoch 88/150\n",
            "118/118 [==============================] - 24s 202ms/step - loss: 2.5850\n",
            "Epoch 89/150\n",
            "118/118 [==============================] - 24s 202ms/step - loss: 2.5568\n",
            "Epoch 90/150\n",
            "118/118 [==============================] - 24s 202ms/step - loss: 2.6741\n",
            "Epoch 91/150\n",
            "118/118 [==============================] - 24s 202ms/step - loss: 2.5336\n",
            "Epoch 92/150\n",
            "118/118 [==============================] - 24s 202ms/step - loss: 2.4960\n",
            "Epoch 93/150\n",
            "118/118 [==============================] - 24s 204ms/step - loss: 2.4786\n",
            "Epoch 94/150\n",
            "118/118 [==============================] - 24s 203ms/step - loss: 2.6041\n",
            "Epoch 95/150\n",
            "118/118 [==============================] - 24s 202ms/step - loss: 2.4646\n",
            "Epoch 96/150\n",
            "118/118 [==============================] - 24s 202ms/step - loss: 2.4376\n",
            "Epoch 97/150\n",
            "118/118 [==============================] - 24s 202ms/step - loss: 2.5360\n",
            "Epoch 98/150\n",
            "118/118 [==============================] - 24s 202ms/step - loss: 2.6348\n",
            "Epoch 99/150\n",
            "118/118 [==============================] - 24s 202ms/step - loss: 2.5365\n",
            "Epoch 100/150\n",
            "118/118 [==============================] - 24s 202ms/step - loss: 2.4940\n",
            "Epoch 101/150\n",
            "118/118 [==============================] - 24s 202ms/step - loss: 2.3983\n",
            "Epoch 102/150\n",
            "118/118 [==============================] - 24s 202ms/step - loss: 2.3085\n",
            "Epoch 103/150\n",
            "118/118 [==============================] - 24s 202ms/step - loss: 2.3307\n",
            "Epoch 104/150\n",
            "118/118 [==============================] - 24s 202ms/step - loss: 2.2679\n",
            "Epoch 105/150\n",
            "118/118 [==============================] - 24s 202ms/step - loss: 2.6410\n",
            "Epoch 106/150\n",
            "118/118 [==============================] - 24s 202ms/step - loss: 2.5266\n",
            "Epoch 107/150\n",
            "118/118 [==============================] - 24s 202ms/step - loss: 2.2776\n",
            "Epoch 108/150\n",
            "118/118 [==============================] - 24s 202ms/step - loss: 2.2303\n",
            "Epoch 109/150\n",
            "118/118 [==============================] - 24s 202ms/step - loss: 2.2139\n",
            "Epoch 110/150\n",
            "118/118 [==============================] - 24s 202ms/step - loss: 2.1724\n",
            "Epoch 111/150\n",
            "118/118 [==============================] - 24s 202ms/step - loss: 2.1538\n",
            "Epoch 112/150\n",
            "118/118 [==============================] - 24s 202ms/step - loss: 2.1426\n",
            "Epoch 113/150\n",
            "118/118 [==============================] - 24s 203ms/step - loss: 2.1221\n",
            "Epoch 114/150\n",
            "118/118 [==============================] - 24s 202ms/step - loss: 2.2609\n",
            "Epoch 115/150\n",
            "118/118 [==============================] - 24s 202ms/step - loss: 2.1608\n",
            "Epoch 116/150\n",
            "118/118 [==============================] - 24s 202ms/step - loss: 2.1628\n",
            "Epoch 117/150\n",
            "118/118 [==============================] - 24s 202ms/step - loss: 2.0996\n",
            "Epoch 118/150\n",
            "118/118 [==============================] - 24s 202ms/step - loss: 2.0968\n",
            "Epoch 119/150\n",
            "118/118 [==============================] - 24s 204ms/step - loss: 2.1338\n",
            "Epoch 120/150\n",
            "118/118 [==============================] - 24s 203ms/step - loss: 2.0810\n",
            "Epoch 121/150\n",
            "118/118 [==============================] - 24s 202ms/step - loss: 2.0502\n",
            "Epoch 122/150\n",
            "118/118 [==============================] - 24s 202ms/step - loss: 2.0281\n",
            "Epoch 123/150\n",
            "118/118 [==============================] - 24s 202ms/step - loss: 2.0676\n",
            "Epoch 124/150\n",
            "118/118 [==============================] - 24s 202ms/step - loss: 2.0412\n",
            "Epoch 125/150\n",
            "118/118 [==============================] - 24s 202ms/step - loss: 2.0269\n",
            "Epoch 126/150\n",
            "118/118 [==============================] - 24s 202ms/step - loss: 2.0804\n",
            "Epoch 127/150\n",
            "118/118 [==============================] - 24s 202ms/step - loss: 2.1489\n",
            "Epoch 128/150\n",
            "118/118 [==============================] - 24s 202ms/step - loss: 2.0242\n",
            "Epoch 129/150\n",
            "118/118 [==============================] - 24s 202ms/step - loss: 1.9942\n",
            "Epoch 130/150\n",
            "118/118 [==============================] - 24s 204ms/step - loss: 1.9816\n",
            "Epoch 131/150\n",
            "118/118 [==============================] - 24s 203ms/step - loss: 1.9637\n",
            "Epoch 132/150\n",
            "118/118 [==============================] - 24s 204ms/step - loss: 1.9579\n",
            "Epoch 133/150\n",
            "118/118 [==============================] - 24s 203ms/step - loss: 1.9499\n",
            "Epoch 134/150\n",
            "118/118 [==============================] - 24s 203ms/step - loss: 1.9443\n",
            "Epoch 135/150\n",
            "118/118 [==============================] - 24s 204ms/step - loss: 1.9358\n",
            "Epoch 136/150\n",
            "118/118 [==============================] - 24s 204ms/step - loss: 1.9278\n",
            "Epoch 137/150\n",
            "118/118 [==============================] - 24s 203ms/step - loss: 1.9233\n",
            "Epoch 138/150\n",
            "118/118 [==============================] - 24s 204ms/step - loss: 1.9161\n",
            "Epoch 139/150\n",
            "118/118 [==============================] - 24s 204ms/step - loss: 1.9100\n",
            "Epoch 140/150\n",
            "118/118 [==============================] - 24s 203ms/step - loss: 1.9012\n",
            "Epoch 141/150\n",
            "118/118 [==============================] - 24s 204ms/step - loss: 1.8995\n",
            "Epoch 142/150\n",
            "118/118 [==============================] - 24s 204ms/step - loss: 1.8915\n",
            "Epoch 143/150\n",
            "118/118 [==============================] - 24s 203ms/step - loss: 1.8931\n",
            "Epoch 144/150\n",
            "118/118 [==============================] - 24s 204ms/step - loss: 1.8847\n",
            "Epoch 145/150\n",
            "118/118 [==============================] - 24s 204ms/step - loss: 1.8811\n",
            "Epoch 146/150\n",
            "118/118 [==============================] - 24s 204ms/step - loss: 1.8733\n",
            "Epoch 147/150\n",
            "118/118 [==============================] - 24s 204ms/step - loss: 1.8695\n",
            "Epoch 148/150\n",
            "118/118 [==============================] - 24s 204ms/step - loss: 1.8621\n",
            "Epoch 149/150\n",
            "118/118 [==============================] - 24s 204ms/step - loss: 1.8639\n",
            "Epoch 150/150\n",
            "118/118 [==============================] - 24s 203ms/step - loss: 1.8537\n"
          ]
        }
      ]
    },
    {
      "cell_type": "code",
      "source": [
        "# Sanity check: plot loss transition\n",
        "plt.plot(history.history[\"loss\"])\n",
        "plt.ylabel(\"loss\")\n",
        "plt.xlabel(\"epoch\")\n",
        "plt.show()"
      ],
      "metadata": {
        "colab": {
          "base_uri": "https://localhost:8080/",
          "height": 279
        },
        "id": "NSZLI1AMWnEU",
        "outputId": "e3e9c295-e411-47bb-a418-e1d25e580ed4"
      },
      "execution_count": 14,
      "outputs": [
        {
          "output_type": "display_data",
          "data": {
            "text/plain": [
              "<Figure size 432x288 with 1 Axes>"
            ],
            "image/png": "[encoded data removed]"
          },
          "metadata": {
            "needs_background": "light"
          }
        }
      ]
    },
    {
      "cell_type": "code",
      "source": [
        "# Summarize model\n",
        "representation_learner.summary()"
      ],
      "metadata": {
        "colab": {
          "base_uri": "https://localhost:8080/"
        },
        "id": "8Ye4ytz4kjVT",
        "outputId": "acc73531-2c98-4009-f9b9-63b936d6bbb2"
      },
      "execution_count": 15,
      "outputs": [
        {
          "output_type": "stream",
          "name": "stdout",
          "text": [
            "Model: \"representation_learner\"\n",
            "_________________________________________________________________\n",
            " Layer (type)                Output Shape              Param #   \n",
            "=================================================================\n",
            " sequential_2 (Sequential)   (None, 512)               24613888  \n",
            "                                                                 \n",
            " sequential_3 (Sequential)   (None, 128)               66048     \n",
            "                                                                 \n",
            "=================================================================\n",
            "Total params: 24,679,938\n",
            "Trainable params: 24,634,240\n",
            "Non-trainable params: 45,698\n",
            "_________________________________________________________________\n"
          ]
        }
      ]
    },
    {
      "cell_type": "code",
      "source": [
        "representation_learner.encoder.summary()"
      ],
      "metadata": {
        "colab": {
          "base_uri": "https://localhost:8080/"
        },
        "id": "Z52uUXoYsEI0",
        "outputId": "630b8b25-8be3-49d0-ac76-a345291f3c0d"
      },
      "execution_count": 16,
      "outputs": [
        {
          "output_type": "stream",
          "name": "stdout",
          "text": [
            "Model: \"sequential_2\"\n",
            "_________________________________________________________________\n",
            " Layer (type)                Output Shape              Param #   \n",
            "=================================================================\n",
            " resnet50v2 (Functional)     (None, 2048)              23564800  \n",
            "                                                                 \n",
            " dense (Dense)               (None, 512)               1049088   \n",
            "                                                                 \n",
            "=================================================================\n",
            "Total params: 24,613,888\n",
            "Trainable params: 24,568,448\n",
            "Non-trainable params: 45,440\n",
            "_________________________________________________________________\n"
          ]
        }
      ]
    },
    {
      "cell_type": "markdown",
      "source": [
        "# Save model"
      ],
      "metadata": {
        "id": "ApQJ2zIVq4KK"
      }
    },
    {
      "cell_type": "code",
      "source": [
        "# representation_learner.save_weights('/content/drive/MyDrive/Soco/Fashion/models/0721_cifar_32/model.weights')"
      ],
      "metadata": {
        "id": "ZodFJ9IKqqeE"
      },
      "execution_count": 17,
      "outputs": []
    },
    {
      "cell_type": "markdown",
      "source": [
        "# Load model"
      ],
      "metadata": {
        "id": "WzPz1Ev___4V"
      }
    },
    {
      "cell_type": "code",
      "source": [
        "# # Create vision encoder.\n",
        "# encoder = create_encoder(representation_dim)\n",
        "# # Create representation learner.\n",
        "# representation_learner = RepresentationLearner(\n",
        "#     encoder, projection_units, num_augmentations=2, temperature=0.1\n",
        "# )\n",
        "# # Create a a Cosine decay learning rate scheduler.\n",
        "# lr_scheduler = keras.optimizers.schedules.CosineDecay(\n",
        "#     initial_learning_rate=0.001, decay_steps=500, alpha=0.1\n",
        "# )\n",
        "# # Compile the model.\n",
        "# representation_learner.compile(\n",
        "#     optimizer=tfa.optimizers.AdamW(learning_rate=lr_scheduler, weight_decay=0.0001),\n",
        "# )\n",
        "# # Load weights\n",
        "# load_status = representation_learner.load_weights('/content/drive/MyDrive/Soco/Fashion/models/0721_cifar_32/model.weights')\n",
        "# load_status.assert_consumed()"
      ],
      "metadata": {
        "colab": {
          "base_uri": "https://localhost:8080/",
          "height": 461
        },
        "id": "bLzgCsfiABN1",
        "outputId": "47c56e77-8db6-4a43-c663-eea178811143"
      },
      "execution_count": 15,
      "outputs": [
        {
          "output_type": "error",
          "ename": "AssertionError",
          "evalue": "ignored",
          "traceback": [
            "\u001b[0;31m---------------------------------------------------------------------------\u001b[0m",
            "\u001b[0;31mAssertionError\u001b[0m                            Traceback (most recent call last)",
            "\u001b[0;32m<ipython-input-15-551cfc78af0b>\u001b[0m in \u001b[0;36m<module>\u001b[0;34m()\u001b[0m\n\u001b[1;32m     15\u001b[0m \u001b[0;31m# Load weights\u001b[0m\u001b[0;34m\u001b[0m\u001b[0;34m\u001b[0m\u001b[0;34m\u001b[0m\u001b[0m\n\u001b[1;32m     16\u001b[0m \u001b[0mload_status\u001b[0m \u001b[0;34m=\u001b[0m \u001b[0mrepresentation_learner\u001b[0m\u001b[0;34m.\u001b[0m\u001b[0mload_weights\u001b[0m\u001b[0;34m(\u001b[0m\u001b[0;34m'/content/drive/MyDrive/Soco/Fashion/models/0721_cifar_32/model.weights'\u001b[0m\u001b[0;34m)\u001b[0m\u001b[0;34m\u001b[0m\u001b[0;34m\u001b[0m\u001b[0m\n\u001b[0;32m---> 17\u001b[0;31m \u001b[0mload_status\u001b[0m\u001b[0;34m.\u001b[0m\u001b[0massert_consumed\u001b[0m\u001b[0;34m(\u001b[0m\u001b[0;34m)\u001b[0m\u001b[0;34m\u001b[0m\u001b[0;34m\u001b[0m\u001b[0m\n\u001b[0m",
            "\u001b[0;32m/usr/local/lib/python3.7/dist-packages/tensorflow/python/training/tracking/util.py\u001b[0m in \u001b[0;36massert_consumed\u001b[0;34m(self)\u001b[0m\n\u001b[1;32m    783\u001b[0m       \u001b[0;32mif\u001b[0m \u001b[0mtrackable\u001b[0m \u001b[0;32mis\u001b[0m \u001b[0;32mNone\u001b[0m\u001b[0;34m:\u001b[0m\u001b[0;34m\u001b[0m\u001b[0;34m\u001b[0m\u001b[0m\n\u001b[1;32m    784\u001b[0m         raise AssertionError(\n\u001b[0;32m--> 785\u001b[0;31m             \u001b[0;34m\"Unresolved object in checkpoint \"\u001b[0m\u001b[0;34m\u001b[0m\u001b[0;34m\u001b[0m\u001b[0m\n\u001b[0m\u001b[1;32m    786\u001b[0m             f\"{pretty_printer.node_names[node_id]}: {node}\")\n\u001b[1;32m    787\u001b[0m     \u001b[0;32mif\u001b[0m \u001b[0mself\u001b[0m\u001b[0;34m.\u001b[0m\u001b[0m_checkpoint\u001b[0m\u001b[0;34m.\u001b[0m\u001b[0mslot_restorations\u001b[0m\u001b[0;34m:\u001b[0m\u001b[0;34m\u001b[0m\u001b[0;34m\u001b[0m\u001b[0m\n",
            "\u001b[0;31mAssertionError\u001b[0m: Unresolved object in checkpoint (root).optimizer.iter: attributes {\n  name: \"VARIABLE_VALUE\"\n  full_name: \"AdamW/iter\"\n  checkpoint_key: \"optimizer/iter/.ATTRIBUTES/VARIABLE_VALUE\"\n}\nhas_checkpoint_values {\n  value: true\n}\n"
          ]
        }
      ]
    },
    {
      "cell_type": "markdown",
      "source": [
        "# Check Attention using Gradcam "
      ],
      "metadata": {
        "id": "KCqRsomUX0yD"
      }
    },
    {
      "cell_type": "markdown",
      "source": [
        "## Calculate Heatmap"
      ],
      "metadata": {
        "id": "8VYZ2uKh1uOX"
      }
    },
    {
      "cell_type": "code",
      "source": [
        "from keras.layers import Input\n",
        "\n",
        "def get_img_array(img_path, size):\n",
        "    # `img` is a PIL image of size 299x299\n",
        "    img = keras.preprocessing.image.load_img(img_path, target_size=size)\n",
        "    # `array` is a float32 Numpy array of shape (299, 299, 3)\n",
        "    array = keras.preprocessing.image.img_to_array(img)\n",
        "    # We add a dimension to transform our array into a \"batch\"\n",
        "    # of size (1, 299, 299, 3)\n",
        "    array = np.expand_dims(array, axis=0)\n",
        "    return array"
      ],
      "metadata": {
        "id": "3uAvW3rUX62v"
      },
      "execution_count": 16,
      "outputs": []
    },
    {
      "cell_type": "code",
      "source": [
        "def make_gradcam_heatmap(img_array, grad_model, pred_index=None, is_dev=False):\n",
        "    # We compute the gradient of the top predicted class for our input image\n",
        "    # with respect to the activations of the last conv layer\n",
        "    with tf.GradientTape() as tape:\n",
        "        last_conv_layer_output, preds = grad_model(img_array)\n",
        "        \n",
        "        if is_dev:\n",
        "            print(\"last conv layer shape\")\n",
        "            print(last_conv_layer_output.shape)\n",
        "            print(\"prediction shape\")\n",
        "            print(preds.shape)\n",
        "\n",
        "        if pred_index is None:\n",
        "            # ? if pred_index is not specified, get the index of the channel with the highest activation\n",
        "            pred_index = tf.argmax(preds[0])\n",
        "        class_channel = preds[0][pred_index]\n",
        "\n",
        "        if is_dev:\n",
        "            print(\"feature index\")\n",
        "            print(pred_index)\n",
        "            print(\"feature activation value\")\n",
        "            print(class_channel)\n",
        "            print(\"all predictions\")\n",
        "            print(preds)\n",
        "\n",
        "    # This is the gradient of the output neuron (top predicted or chosen)\n",
        "    # with regard to the output feature map of the last conv layer\n",
        "    grads = tape.gradient(class_channel, last_conv_layer_output)\n",
        "    \n",
        "    if is_dev:\n",
        "        print(\"gradient shape\")\n",
        "        print(grads.shape)\n",
        "\n",
        "    # This is a vector where each entry is the mean intensity of the gradient\n",
        "    # over a specific feature map channel\n",
        "    pooled_grads = tf.reduce_mean(grads, axis=(0, 1, 2))\n",
        "\n",
        "    if is_dev:\n",
        "        print(\"pooled gradient shape\")\n",
        "        print(pooled_grads.shape)\n",
        "\n",
        "    # We multiply each channel in the feature map array\n",
        "    # by \"how important this channel is\" with regard to the top predicted class\n",
        "    # then sum all the channels to obtain the heatmap class activation\n",
        "    last_conv_layer_output = last_conv_layer_output[0]\n",
        "    heatmap = last_conv_layer_output @ pooled_grads[..., tf.newaxis]\n",
        "    heatmap = tf.squeeze(heatmap)\n",
        "\n",
        "    # For visualization purpose, we will also normalize the heatmap between 0 & 1\n",
        "    heatmap = tf.maximum(heatmap, 0) / tf.math.reduce_max(heatmap)\n",
        "    return heatmap.numpy()"
      ],
      "metadata": {
        "id": "JMfWSHzIuXbM"
      },
      "execution_count": 17,
      "outputs": []
    },
    {
      "cell_type": "markdown",
      "source": [
        "calculate the encoder's heat map "
      ],
      "metadata": {
        "id": "J4v5IXLe3oSM"
      }
    },
    {
      "cell_type": "code",
      "source": [
        "img = x_data[0].reshape(1, target_size, target_size, 3)\n",
        "\n",
        "layer_name = \"conv2_block3_1_relu\"\n",
        "target_model = representation_learner.encoder\n",
        "# resnet = target_model.get_layer('resnet50v2')\n",
        "resnet = target_model.layers[0]\n",
        "\n",
        "grad_sub_model = tf.keras.models.Model(\n",
        "    inputs=resnet.input,\n",
        "    outputs=[resnet.get_layer(layer_name).output, resnet.output]\n",
        ")\n",
        "\n",
        "# contruct grad model\n",
        "inputs = grad_sub_model.inputs\n",
        "tmp, preds = grad_sub_model(inputs)\n",
        "preds = target_model.layers[1](preds)\n",
        "grad_model = tf.keras.models.Model(inputs, [tmp, preds])\n",
        "\n",
        "\n",
        "encoder_heatmap = make_gradcam_heatmap(img, grad_model) # this isn't the last conv layer, but it had a nice response"
      ],
      "metadata": {
        "id": "sgDsr1f3fO1c"
      },
      "execution_count": 18,
      "outputs": []
    },
    {
      "cell_type": "markdown",
      "source": [
        "calculate the entire model's heat map"
      ],
      "metadata": {
        "id": "FNY5ASsa3zx8"
      }
    },
    {
      "cell_type": "code",
      "source": [
        "img = x_data[0].reshape(1, target_size, target_size, 3)\n",
        "\n",
        "layer_name = \"conv2_block3_1_relu\"\n",
        "target_encoder = representation_learner.encoder\n",
        "target_projector = representation_learner.projector\n",
        "resnet = target_encoder.layers[0]\n",
        "\n",
        "grad_sub_model = tf.keras.models.Model(\n",
        "    inputs=resnet.input,\n",
        "    outputs=[resnet.get_layer(layer_name).output, resnet.output]\n",
        ")\n",
        "\n",
        "# contruct grad model\n",
        "inputs = grad_sub_model.inputs\n",
        "tmp, preds = grad_sub_model(inputs)\n",
        "preds = target_encoder.layers[1](preds) # projection inside encoder\n",
        "preds = target_projector(preds)\n",
        "grad_model = tf.keras.models.Model(inputs, [tmp, preds])\n",
        "\n",
        "\n",
        "rl_heatmap = make_gradcam_heatmap(img, grad_model) # this isn't the last conv layer, but it had a nice response"
      ],
      "metadata": {
        "id": "_RX_19I-gOts"
      },
      "execution_count": 19,
      "outputs": []
    },
    {
      "cell_type": "code",
      "source": [
        "# Sanity check: check the output isn't 0\n",
        "representation_learner(img)[0][:6]"
      ],
      "metadata": {
        "colab": {
          "base_uri": "https://localhost:8080/"
        },
        "id": "PiAK1jNv40nM",
        "outputId": "daa2a859-94f3-4baa-a82b-efb42583d487"
      },
      "execution_count": 20,
      "outputs": [
        {
          "output_type": "execute_result",
          "data": {
            "text/plain": [
              "<tf.Tensor: shape=(6,), dtype=float32, numpy=\n",
              "array([ 0.      , 10.687331,  0.      ,  0.      ,  0.      ,  0.      ],\n",
              "      dtype=float32)>"
            ]
          },
          "metadata": {},
          "execution_count": 20
        }
      ]
    },
    {
      "cell_type": "markdown",
      "source": [
        "## Plot heat map"
      ],
      "metadata": {
        "id": "rYU2Ja0agje8"
      }
    },
    {
      "cell_type": "code",
      "source": [
        "import numpy as np\n",
        "import matplotlib.cm as cm\n",
        "\n",
        "def display_image(img_array, heatmap_array, alpha=0.4):\n",
        "    heatmap = np.uint8(255 * heatmap_array)\n",
        "    \n",
        "    jet = cm.get_cmap(\"jet\")\n",
        "    # Use RGB values of the colormap\n",
        "    jet_colors = jet(np.arange(256))[:, :3]\n",
        "    jet_heatmap = jet_colors[heatmap]\n",
        "    # Create an image with RGB colorized heatmap\n",
        "    jet_heatmap = keras.preprocessing.image.array_to_img(jet_heatmap)\n",
        "    jet_heatmap = jet_heatmap.resize((img_array.shape[1], img_array.shape[0]))\n",
        "    jet_heatmap = keras.preprocessing.image.img_to_array(jet_heatmap)\n",
        "    \n",
        "    # Superimpose the heatmap on original image\n",
        "    superimposed_img = jet_heatmap * alpha + img_array\n",
        "    # superimposed_img = keras.preprocessing.image.array_to_img(superimposed_img)\n",
        "    \n",
        "\n",
        "    plt.matshow(jet_heatmap/255)\n",
        "    plt.matshow(img_array/255)\n",
        "    plt.matshow(superimposed_img/255)\n",
        "\n",
        "    # Save the superimposed image\n",
        "    # superimposed_img.save(cam_path)\n",
        "\n",
        "    # Display Grad CAM\n",
        "    # display(Image(cam_path))"
      ],
      "metadata": {
        "id": "cO1km7kn1yeS"
      },
      "execution_count": 21,
      "outputs": []
    },
    {
      "cell_type": "markdown",
      "source": [
        "## Compare encoder to representation learner activation"
      ],
      "metadata": {
        "id": "-wkufHtc6tAd"
      }
    },
    {
      "cell_type": "code",
      "source": [
        "display_image(img.reshape(32,32,3), encoder_heatmap)"
      ],
      "metadata": {
        "colab": {
          "base_uri": "https://localhost:8080/",
          "height": 809
        },
        "id": "gpy2mHc811q1",
        "outputId": "010f3815-4445-447b-d85f-3d895c383b88"
      },
      "execution_count": 22,
      "outputs": [
        {
          "output_type": "stream",
          "name": "stderr",
          "text": [
            "Clipping input data to the valid range for imshow with RGB data ([0..1] for floats or [0..255] for integers).\n"
          ]
        },
        {
          "output_type": "display_data",
          "data": {
            "text/plain": [
              "<Figure size 288x288 with 1 Axes>"
            ],
            "image/png": "[encoded data removed]"
          },
          "metadata": {
            "needs_background": "light"
          }
        },
        {
          "output_type": "display_data",
          "data": {
            "text/plain": [
              "<Figure size 288x288 with 1 Axes>"
            ],
            "image/png": "[encoded data removed]"
          },
          "metadata": {
            "needs_background": "light"
          }
        },
        {
          "output_type": "display_data",
          "data": {
            "text/plain": [
              "<Figure size 288x288 with 1 Axes>"
            ],
            "image/png": "[encoded data removed]"
          },
          "metadata": {
            "needs_background": "light"
          }
        }
      ]
    },
    {
      "cell_type": "code",
      "source": [
        "display_image(img.reshape(32,32,3), rl_heatmap)"
      ],
      "metadata": {
        "colab": {
          "base_uri": "https://localhost:8080/",
          "height": 809
        },
        "id": "UToD_t0B17ar",
        "outputId": "bfe9f37a-f072-4f47-c1bc-b8756874bfcd"
      },
      "execution_count": 23,
      "outputs": [
        {
          "output_type": "stream",
          "name": "stderr",
          "text": [
            "Clipping input data to the valid range for imshow with RGB data ([0..1] for floats or [0..255] for integers).\n"
          ]
        },
        {
          "output_type": "display_data",
          "data": {
            "text/plain": [
              "<Figure size 288x288 with 1 Axes>"
            ],
            "image/png": "[encoded data removed]"
          },
          "metadata": {
            "needs_background": "light"
          }
        },
        {
          "output_type": "display_data",
          "data": {
            "text/plain": [
              "<Figure size 288x288 with 1 Axes>"
            ],
            "image/png": "[encoded data removed]"
          },
          "metadata": {
            "needs_background": "light"
          }
        },
        {
          "output_type": "display_data",
          "data": {
            "text/plain": [
              "<Figure size 288x288 with 1 Axes>"
            ],
            "image/png": "[encoded data removed]"
          },
          "metadata": {
            "needs_background": "light"
          }
        }
      ]
    },
    {
      "cell_type": "markdown",
      "source": [
        "## Show activations of different features"
      ],
      "metadata": {
        "id": "I7McobnR5gAR"
      }
    },
    {
      "cell_type": "code",
      "source": [
        "def plot_heatmaps(img_index, grad_model, feature_index, is_dev=False):\n",
        "    img = x_data[img_index].reshape(1, target_size, target_size, 3)\n",
        "    rl_heatmap = make_gradcam_heatmap(img, grad_model, feature_index, is_dev)\n",
        "    display_image(img.reshape(target_size,target_size,3), rl_heatmap)\n",
        "    \n",
        "\n",
        "img = x_data[0].reshape(1, target_size, target_size, 3)\n",
        "\n",
        "layer_name = \"conv2_block3_1_relu\"\n",
        "target_encoder = representation_learner.encoder\n",
        "target_projector = representation_learner.projector\n",
        "resnet = target_encoder.layers[0]\n",
        "\n",
        "grad_sub_model = tf.keras.models.Model(\n",
        "    inputs=resnet.input,\n",
        "    outputs=[resnet.get_layer(layer_name).output, resnet.output]\n",
        ")\n",
        "\n",
        "# contruct grad model\n",
        "inputs = grad_sub_model.inputs\n",
        "tmp, preds = grad_sub_model(inputs)\n",
        "preds = target_encoder.layers[1](preds) # projection inside encoder\n",
        "preds = target_projector(preds)\n",
        "grad_model = tf.keras.models.Model(inputs, [tmp, preds])"
      ],
      "metadata": {
        "id": "jnrG825C6-3H"
      },
      "execution_count": 24,
      "outputs": []
    },
    {
      "cell_type": "code",
      "source": [
        "plot_heatmaps(img_index=3, grad_model=grad_model, feature_index=None, is_dev=True) # None will chose the index with the largest activation"
      ],
      "metadata": {
        "colab": {
          "base_uri": "https://localhost:8080/",
          "height": 1000
        },
        "id": "DLWeMWLl7D9d",
        "outputId": "a7938922-5d2d-4efa-b095-0a19f44a4d88"
      },
      "execution_count": 25,
      "outputs": [
        {
          "output_type": "stream",
          "name": "stderr",
          "text": [
            "Clipping input data to the valid range for imshow with RGB data ([0..1] for floats or [0..255] for integers).\n"
          ]
        },
        {
          "output_type": "stream",
          "name": "stdout",
          "text": [
            "last conv layer shape\n",
            "(1, 8, 8, 64)\n",
            "prediction shape\n",
            "(1, 128)\n",
            "feature index\n",
            "tf.Tensor(1, shape=(), dtype=int64)\n",
            "feature activation value\n",
            "tf.Tensor(5.314412, shape=(), dtype=float32)\n",
            "all predictions\n",
            "tf.Tensor(\n",
            "[[0.         5.314412   0.         0.         0.         0.\n",
            "  0.         0.         0.         0.         0.         0.\n",
            "  0.         0.         0.         0.         0.         0.\n",
            "  0.         0.         0.         0.         0.         0.\n",
            "  0.         0.         0.         0.         0.         0.\n",
            "  0.         0.         0.         0.         0.         0.\n",
            "  0.         0.         0.         0.         0.         0.\n",
            "  2.2589068  0.         0.         0.         0.         0.\n",
            "  0.         0.         0.         0.         0.         0.\n",
            "  0.         0.         0.         0.         0.         0.\n",
            "  0.         0.         0.         0.         0.         0.\n",
            "  0.         0.         0.         0.         0.         0.\n",
            "  0.         0.         0.         0.         0.         0.\n",
            "  0.         0.         0.         0.         0.         0.\n",
            "  0.         0.         0.         0.         0.         0.\n",
            "  0.         0.         0.         0.         0.         0.\n",
            "  2.184272   0.         2.383558   0.         0.         0.\n",
            "  0.         0.         0.         0.         0.         0.\n",
            "  0.         0.         0.         0.         0.         0.\n",
            "  0.         0.09452923 0.         0.         0.         0.\n",
            "  0.         0.         0.         0.         0.         0.\n",
            "  0.         0.        ]], shape=(1, 128), dtype=float32)\n",
            "gradient shape\n",
            "(1, 8, 8, 64)\n",
            "pooled gradient shape\n",
            "(64,)\n"
          ]
        },
        {
          "output_type": "display_data",
          "data": {
            "text/plain": [
              "<Figure size 288x288 with 1 Axes>"
            ],
            "image/png": "[encoded data removed]"
          },
          "metadata": {
            "needs_background": "light"
          }
        },
        {
          "output_type": "display_data",
          "data": {
            "text/plain": [
              "<Figure size 288x288 with 1 Axes>"
            ],
            "image/png": "[encoded data removed]"
          },
          "metadata": {
            "needs_background": "light"
          }
        },
        {
          "output_type": "display_data",
          "data": {
            "text/plain": [
              "<Figure size 288x288 with 1 Axes>"
            ],
            "image/png": "[encoded data removed]"
          },
          "metadata": {
            "needs_background": "light"
          }
        }
      ]
    },
    {
      "cell_type": "code",
      "source": [
        "plot_heatmaps(1, grad_model, None)"
      ],
      "metadata": {
        "colab": {
          "base_uri": "https://localhost:8080/",
          "height": 809
        },
        "id": "iQAyiuNQ7rNg",
        "outputId": "80ddee4e-5634-428e-b2db-ebf2188b42c2"
      },
      "execution_count": 27,
      "outputs": [
        {
          "output_type": "stream",
          "name": "stderr",
          "text": [
            "Clipping input data to the valid range for imshow with RGB data ([0..1] for floats or [0..255] for integers).\n"
          ]
        },
        {
          "output_type": "display_data",
          "data": {
            "text/plain": [
              "<Figure size 288x288 with 1 Axes>"
            ],
            "image/png": "[encoded data removed]"
          },
          "metadata": {
            "needs_background": "light"
          }
        },
        {
          "output_type": "display_data",
          "data": {
            "text/plain": [
              "<Figure size 288x288 with 1 Axes>"
            ],
            "image/png": "[encoded data removed]"
          },
          "metadata": {
            "needs_background": "light"
          }
        },
        {
          "output_type": "display_data",
          "data": {
            "text/plain": [
              "<Figure size 288x288 with 1 Axes>"
            ],
            "image/png": "[encoded data removed]"
          },
          "metadata": {
            "needs_background": "light"
          }
        }
      ]
    },
    {
      "cell_type": "code",
      "source": [
        "plot_heatmaps(0, grad_model, 39)"
      ],
      "metadata": {
        "colab": {
          "base_uri": "https://localhost:8080/",
          "height": 809
        },
        "id": "RWSkN-Cm75Vu",
        "outputId": "588ab8ba-8ca4-4f75-cb03-b57997e6c0bd"
      },
      "execution_count": null,
      "outputs": [
        {
          "output_type": "stream",
          "name": "stderr",
          "text": [
            "WARNING:matplotlib.image:Clipping input data to the valid range for imshow with RGB data ([0..1] for floats or [0..255] for integers).\n"
          ]
        },
        {
          "output_type": "display_data",
          "data": {
            "text/plain": [
              "<Figure size 288x288 with 1 Axes>"
            ],
            "image/png": "[encoded data removed]"
          },
          "metadata": {
            "needs_background": "light"
          }
        },
        {
          "output_type": "display_data",
          "data": {
            "text/plain": [
              "<Figure size 288x288 with 1 Axes>"
            ],
            "image/png": "[encoded data removed]"
          },
          "metadata": {
            "needs_background": "light"
          }
        },
        {
          "output_type": "display_data",
          "data": {
            "text/plain": [
              "<Figure size 288x288 with 1 Axes>"
            ],
            "image/png": "[encoded data removed]"
          },
          "metadata": {
            "needs_background": "light"
          }
        }
      ]
    },
    {
      "cell_type": "code",
      "source": [
        "plot_heatmaps(img_index=3, grad_model=grad_model, feature_index=None, is_dev=True) # None will chose the index with the largest activation"
      ],
      "metadata": {
        "colab": {
          "base_uri": "https://localhost:8080/",
          "height": 1000
        },
        "id": "FqUkZZKx8a8F",
        "outputId": "5451d09f-b8bc-4dc9-fb31-e112270dda47"
      },
      "execution_count": null,
      "outputs": [
        {
          "output_type": "stream",
          "name": "stderr",
          "text": [
            "WARNING:matplotlib.image:Clipping input data to the valid range for imshow with RGB data ([0..1] for floats or [0..255] for integers).\n"
          ]
        },
        {
          "output_type": "stream",
          "name": "stdout",
          "text": [
            "last conv layer shape\n",
            "(1, 8, 8, 64)\n",
            "prediction shape\n",
            "(1, 128)\n",
            "feature index\n",
            "tf.Tensor(83, shape=(), dtype=int64)\n",
            "feature activation value\n",
            "tf.Tensor(15.470846, shape=(), dtype=float32)\n",
            "all predictions\n",
            "tf.Tensor(\n",
            "[[ 0.        0.        0.        0.        0.        0.        0.\n",
            "   0.        0.        0.        0.        0.        0.        0.\n",
            "   0.        0.        0.        0.        0.        0.        0.\n",
            "   0.        0.        0.        0.        0.        0.        0.\n",
            "   0.        0.        0.        0.        0.        0.        0.\n",
            "   0.        0.        0.        0.       13.609     0.        0.\n",
            "   0.        0.        0.        0.        0.        0.        0.\n",
            "   0.        0.        0.        0.        0.        0.        0.\n",
            "   0.        0.        0.        0.        0.        0.        0.\n",
            "   0.        0.        0.        0.        0.        0.        0.\n",
            "   0.        0.        0.        0.        0.        0.        0.\n",
            "   0.        0.        0.        0.        0.        0.       15.470846\n",
            "   0.        0.        0.        0.        0.        0.        0.\n",
            "   0.        0.        0.        0.        0.        0.        0.\n",
            "   0.        0.        0.        0.        0.        0.        0.\n",
            "   0.        0.        0.        0.        0.        0.        0.\n",
            "   0.        0.        0.        0.        0.        0.        0.\n",
            "   0.        0.        0.        0.        0.        0.        0.\n",
            "   0.        0.      ]], shape=(1, 128), dtype=float32)\n",
            "gradient shape\n",
            "(1, 8, 8, 64)\n",
            "pooled gradient shape\n",
            "(64,)\n"
          ]
        },
        {
          "output_type": "display_data",
          "data": {
            "text/plain": [
              "<Figure size 288x288 with 1 Axes>"
            ],
            "image/png": "[encoded data removed]"
          },
          "metadata": {
            "needs_background": "light"
          }
        },
        {
          "output_type": "display_data",
          "data": {
            "text/plain": [
              "<Figure size 288x288 with 1 Axes>"
            ],
            "image/png": "[encoded data removed]"
          },
          "metadata": {
            "needs_background": "light"
          }
        },
        {
          "output_type": "display_data",
          "data": {
            "text/plain": [
              "<Figure size 288x288 with 1 Axes>"
            ],
            "image/png": "[encoded data removed]"
          },
          "metadata": {
            "needs_background": "light"
          }
        }
      ]
    },
    {
      "cell_type": "code",
      "source": [
        "plot_heatmaps(img_index=4, grad_model=grad_model, feature_index=None, is_dev=True) # None will chose the index with the largest activation"
      ],
      "metadata": {
        "colab": {
          "base_uri": "https://localhost:8080/",
          "height": 1000
        },
        "id": "BIx-k5Og-cZ9",
        "outputId": "55a8ebaa-da59-4b60-b493-b81c12a9705a"
      },
      "execution_count": null,
      "outputs": [
        {
          "output_type": "stream",
          "name": "stderr",
          "text": [
            "WARNING:matplotlib.image:Clipping input data to the valid range for imshow with RGB data ([0..1] for floats or [0..255] for integers).\n"
          ]
        },
        {
          "output_type": "stream",
          "name": "stdout",
          "text": [
            "last conv layer shape\n",
            "(1, 8, 8, 64)\n",
            "prediction shape\n",
            "(1, 128)\n",
            "feature index\n",
            "tf.Tensor(83, shape=(), dtype=int64)\n",
            "feature activation value\n",
            "tf.Tensor(17.19453, shape=(), dtype=float32)\n",
            "all predictions\n",
            "tf.Tensor(\n",
            "[[ 0.        0.        0.        0.        0.        0.        0.\n",
            "   0.        0.        0.        0.        0.        0.        0.\n",
            "   0.        0.        0.        0.        0.        0.        0.\n",
            "   0.        0.        0.        0.        0.        0.        0.\n",
            "   0.        0.        0.        0.        0.        0.        0.\n",
            "   0.        0.        0.        0.       13.155498  0.        0.\n",
            "   0.        0.        0.        0.        0.        0.        0.\n",
            "   0.        0.        0.        0.        0.        0.        0.\n",
            "   0.        0.        0.        0.        0.        0.        0.\n",
            "   0.        0.        0.        0.        0.        0.        0.\n",
            "   0.        0.        0.        0.        0.        0.        0.\n",
            "   0.        0.        0.        0.        0.        0.       17.19453\n",
            "   0.        0.        0.        0.        0.        0.        0.\n",
            "   0.        0.        0.        0.        0.        0.        0.\n",
            "   0.        0.        0.        0.        0.        0.        0.\n",
            "   0.        0.        0.        0.        0.        0.        0.\n",
            "   0.        0.        0.        0.        0.        0.        0.\n",
            "   0.        0.        0.        0.        0.        0.        0.\n",
            "   0.        0.      ]], shape=(1, 128), dtype=float32)\n",
            "gradient shape\n",
            "(1, 8, 8, 64)\n",
            "pooled gradient shape\n",
            "(64,)\n"
          ]
        },
        {
          "output_type": "display_data",
          "data": {
            "text/plain": [
              "<Figure size 288x288 with 1 Axes>"
            ],
            "image/png": "[encoded data removed]"
          },
          "metadata": {
            "needs_background": "light"
          }
        },
        {
          "output_type": "display_data",
          "data": {
            "text/plain": [
              "<Figure size 288x288 with 1 Axes>"
            ],
            "image/png": "[encoded data removed]"
          },
          "metadata": {
            "needs_background": "light"
          }
        },
        {
          "output_type": "display_data",
          "data": {
            "text/plain": [
              "<Figure size 288x288 with 1 Axes>"
            ],
            "image/png": "[encoded data removed]"
          },
          "metadata": {
            "needs_background": "light"
          }
        }
      ]
    },
    {
      "cell_type": "code",
      "source": [
        ""
      ],
      "metadata": {
        "id": "2_vsbqfz_Ddt"
      },
      "execution_count": null,
      "outputs": []
    }
  ]
}